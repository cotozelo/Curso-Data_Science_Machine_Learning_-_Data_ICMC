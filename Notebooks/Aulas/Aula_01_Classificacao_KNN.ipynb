{
  "nbformat": 4,
  "nbformat_minor": 0,
  "metadata": {
    "colab": {
      "name": "Aula_01_Classificacao_KNN.ipynb",
      "provenance": [],
      "authorship_tag": "ABX9TyPs6gxeJp/ALUmgx4hLfovV",
      "include_colab_link": true
    },
    "kernelspec": {
      "name": "python3",
      "display_name": "Python 3"
    },
    "language_info": {
      "name": "python"
    }
  },
  "cells": [
    {
      "cell_type": "markdown",
      "metadata": {
        "id": "view-in-github",
        "colab_type": "text"
      },
      "source": [
        "<a href=\"https://colab.research.google.com/github/cotozelo/Data_Science_Machine_Learning_-_Data_ICMC/blob/main/Notebooks/Aulas/Aula_01_Classificacao_KNN.ipynb\" target=\"_parent\"><img src=\"https://colab.research.google.com/assets/colab-badge.svg\" alt=\"Open In Colab\"/></a>"
      ]
    },
    {
      "cell_type": "markdown",
      "metadata": {
        "id": "_mtajbkPCESl"
      },
      "source": [
        "#K-Nearest Neighbors (ou K-Vizinhos mais próximos)\n",
        "\n",
        "* Chamado geramlente de KNN.\n",
        "* Algoritmo de classificação ( com adaptações pode ser usado para regressão).\n",
        "* Todas as features devem ser numéricas.\n",
        "* Pressuposto: ocorrências de mesma classe devem estar localizadas próximas no espaço, mesmo podendo ser um espaço n-dimensional.\n",
        "* O treino é muito rápido, mas o teste é demorado.\n",
        "* Distâncias mais usadas:\n",
        "  * Distância de Euclides\n",
        "  * Distância Manhattan\n",
        "* <a href=\"https://www.youtube.com/watch?v=BbYV8UfMJSA&t=67s\">Lecture 4 'Curse of Dimensionality / Perceptron' -Cornell CS4780 SP17</a>\n",
        "  * Explição sobre quanto maior a quantidade de dimensões, menos os vizinho são possíveis de calcular, pois todos os pontos estão distante e a mesma distância, <a href=\"http://www.cs.cornell.edu/courses/cs4780/2018fa/lectures/lecturenote02_kNN.html\">Explicação Textual</a>\n",
        "* <a href=\"https://en.wikipedia.org/wiki/K-nearest_neighbors_algorithm\">Referência</a>\n",
        "\n"
      ]
    },
    {
      "cell_type": "markdown",
      "metadata": {
        "id": "gh4PEN2WQi48"
      },
      "source": [
        "## Exercício 01 - Imagens de números"
      ]
    },
    {
      "cell_type": "markdown",
      "metadata": {
        "id": "3dZRabBzQn43"
      },
      "source": [
        "###Import e Sets"
      ]
    },
    {
      "cell_type": "code",
      "metadata": {
        "id": "MmxCYtoeCEEi"
      },
      "source": [
        "import numpy as np\n",
        "import matplotlib.pyplot as plt\n",
        "from sklearn import datasets\n",
        "from sklearn.model_selection import train_test_split\n",
        "from sklearn.neighbors import KNeighborsClassifier\n",
        "from sklearn import metrics\n",
        "from sklearn.model_selection import GridSearchCV\n",
        "\n",
        "# Essas linhas sao apenas configuracoes de plotting. \n",
        "# Elas nao sao importantes para o seu aprendizado, entao as trataremos como \"magica\" por agora, ok?\n",
        "%matplotlib inline\n",
        "plt.rcParams['figure.figsize'] = (10.0, 8.0) # set default size of plots\n",
        "plt.rcParams['image.interpolation'] = 'nearest'\n",
        "plt.rcParams['image.cmap'] = 'gray'\n",
        "\n",
        "# Abaixo encontram-se os hiperparametros do modelo que sera construido.\n",
        "# A nao ser que seja instruido, voce nao deve modifica-los\n",
        "TRAIN_TEST_SPLIT_SIZE = 0.2 # Define que o TESTE correspondera a 20% do total do dataset"
      ],
      "execution_count": null,
      "outputs": []
    },
    {
      "cell_type": "markdown",
      "metadata": {
        "id": "gc5q7ZK7Q3fL"
      },
      "source": [
        "### Carregar os dados\n",
        "\n",
        "Usaremos o dataset mnist"
      ]
    },
    {
      "cell_type": "code",
      "metadata": {
        "colab": {
          "base_uri": "https://localhost:8080/",
          "height": 501
        },
        "id": "BmTOTcwJCC7n",
        "outputId": "d396e9d0-8fc8-4b55-8b9f-38111fcebd2c"
      },
      "source": [
        "dataset = datasets.load_digits()\n",
        "\n",
        "datasetSize = len(dataset.images)\n",
        "print(\"O dataset possui\", datasetSize, \" imagens.\")\n",
        "\n",
        "# Mostraremos uma imagem aleatoria dentro do dataset\n",
        "plt.imshow(dataset.images[np.random.randint(datasetSize)])\n",
        "plt.show()"
      ],
      "execution_count": null,
      "outputs": [
        {
          "output_type": "stream",
          "text": [
            "O dataset possui 1797  imagens.\n"
          ],
          "name": "stdout"
        },
        {
          "output_type": "display_data",
          "data": {
            "image/png": "[encoded data removed]",
            "text/plain": [
              "<Figure size 720x576 with 1 Axes>"
            ]
          },
          "metadata": {
            "tags": [],
            "needs_background": "light"
          }
        }
      ]
    },
    {
      "cell_type": "markdown",
      "metadata": {
        "id": "dwfkD-QiRdy2"
      },
      "source": [
        "### Separando o dataset em treino e teste"
      ]
    },
    {
      "cell_type": "code",
      "metadata": {
        "colab": {
          "base_uri": "https://localhost:8080/"
        },
        "id": "zywxYSQMRkrq",
        "outputId": "79acbb40-f365-48f4-8bac-43d8743cee47"
      },
      "source": [
        "X_train, X_test, y_train, y_test = train_test_split(dataset.data, dataset.target, test_size=TRAIN_TEST_SPLIT_SIZE)\n",
        "\n",
        "print(\"Train shapes - X =\", X_train.shape,\" y =\", y_train.shape)\n",
        "print(\"Test shapes - X =\", X_test.shape,\" y =\", y_test.shape)\n",
        "print()\n",
        "print(f\"Exemplo de uma linha de X:\\n{X_train[0]}\\n\")\n",
        "print(f\"Exemplo de uma linha de Y:\\n{y_train[0]}\")"
      ],
      "execution_count": null,
      "outputs": [
        {
          "output_type": "stream",
          "text": [
            "Train shapes - X = (1437, 64)  y = (1437,)\n",
            "Test shapes - X = (360, 64)  y = (360,)\n",
            "\n",
            "Exemplo de uma linha de X:\n",
            "[ 0.  0.  3. 12. 11.  4.  0.  0.  0.  4. 15. 13. 12. 16.  0.  0.  0.  9.\n",
            " 14.  0.  0. 12.  2.  0.  0.  0. 13. 11.  7. 15.  3.  0.  0.  0.  0. 15.\n",
            " 16.  7.  0.  0.  0.  0.  5. 16. 10. 14.  2.  0.  0.  0. 11. 13.  0.  8.\n",
            "  8.  0.  0.  0.  2. 12. 16. 16.  7.  0.]\n",
            "\n",
            "Exemplo de uma linha de Y:\n",
            "8\n"
          ],
          "name": "stdout"
        }
      ]
    },
    {
      "cell_type": "markdown",
      "metadata": {
        "id": "g4LPSfAPAeow"
      },
      "source": [
        "### O modelo"
      ]
    },
    {
      "cell_type": "code",
      "metadata": {
        "colab": {
          "base_uri": "https://localhost:8080/",
          "height": 514
        },
        "id": "vvJ3vLm6Af5D",
        "outputId": "60f039d8-93c7-42d0-c07d-de0fb46c0f5e"
      },
      "source": [
        "k = 1 # usarndo k = 1 ou seja, somente um vizinho\n",
        "knn = KNeighborsClassifier(n_neighbors=k)\n",
        "knn.fit(X_train, y_train)\n",
        "score = knn.score(X_test, y_test)\n",
        "y_predito = knn.predict(X_test)\n",
        "\n",
        "print(f'O score do modelo com k={k} é {score}')\n",
        "plt.scatter(x=y_test, y=y_predito)\n",
        "plt.xlabel(\"y de teste\")\n",
        "plt.ylabel(\"y de predito\")\n",
        "plt.show()"
      ],
      "execution_count": null,
      "outputs": [
        {
          "output_type": "stream",
          "text": [
            "O score do modelo com k=1 é 0.9888888888888889\n"
          ],
          "name": "stdout"
        },
        {
          "output_type": "display_data",
          "data": {
            "image/png": "[encoded data removed]",
            "text/plain": [
              "<Figure size 720x576 with 1 Axes>"
            ]
          },
          "metadata": {
            "tags": [],
            "needs_background": "light"
          }
        }
      ]
    },
    {
      "cell_type": "markdown",
      "metadata": {
        "id": "qz21yfNUMuub"
      },
      "source": [
        "###Métricas"
      ]
    },
    {
      "cell_type": "code",
      "metadata": {
        "colab": {
          "base_uri": "https://localhost:8080/"
        },
        "id": "22L7LI33A1KK",
        "outputId": "3d7d8e23-6312-4807-e0d0-180bb9ef4ebe"
      },
      "source": [
        "print(metrics.classification_report(y_test, y_predito)"
      ],
      "execution_count": null,
      "outputs": [
        {
          "output_type": "stream",
          "text": [
            "              precision    recall  f1-score   support\n",
            "\n",
            "           0       1.00      1.00      1.00        33\n",
            "           1       0.97      1.00      0.98        31\n",
            "           2       1.00      0.97      0.99        36\n",
            "           3       0.97      1.00      0.99        36\n",
            "           4       1.00      1.00      1.00        45\n",
            "           5       1.00      0.97      0.99        37\n",
            "           6       1.00      1.00      1.00        33\n",
            "           7       1.00      0.97      0.99        39\n",
            "           8       1.00      1.00      1.00        34\n",
            "           9       0.95      0.97      0.96        36\n",
            "\n",
            "    accuracy                           0.99       360\n",
            "   macro avg       0.99      0.99      0.99       360\n",
            "weighted avg       0.99      0.99      0.99       360\n",
            "\n"
          ],
          "name": "stdout"
        }
      ]
    },
    {
      "cell_type": "markdown",
      "metadata": {
        "id": "K0P0m-sBOwju"
      },
      "source": [
        "* *Precision* é intuitivamente a capacidade do classificador de não rotular como **positiva** uma amostra **negativa**\n",
        "  \n",
        "  Precision = tp / (tp + fp)\n",
        "    * tp é o verdadeiro positivo\n",
        "    * fp é o falso positivo\n",
        "\n",
        "* *Recall* é intuitivamente a capacidade do classificador de encontrar **todas** as amostras **positivas**.\n",
        "\n",
        "  Recall = tp / (tp + fn)\n",
        "    * tp é o verdadeiro positivo \n",
        "    * fn é o falso negativo\n",
        "\n",
        "* *F1-Score* pode ser interpretada como uma média pondera da *precision* e *recall*, onde 1 é o melhor valor e 0 o pior valor.\n",
        "\n",
        "  f1 = 2 * (precision * recall) / (precision + recall)\n",
        "\n",
        "* *Support* é o número de cada classe no conjunto de teste, ou seja **y_test**.\n",
        "\n",
        "* *Accuracy* é a quantidade de acerto frente o total de amostras.\n",
        "\n"
      ]
    },
    {
      "cell_type": "markdown",
      "metadata": {
        "id": "PJjdiDGAT8hd"
      },
      "source": [
        "###Ajuste de hiper-parâmetros\n",
        "\n",
        "Como esse ajuste podemos encontrar o melhor modelo, a partir de um conjunto de parâmetros. <a href=\" https://scikit-learn.org/stable/modules/generated/sklearn.model_selection.GridSearchCV.html\">[ref]</a>"
      ]
    },
    {
      "cell_type": "code",
      "metadata": {
        "colab": {
          "base_uri": "https://localhost:8080/",
          "height": 514
        },
        "id": "9w8eNJVWTv3i",
        "outputId": "4bb82a08-3314-4e31-ef8a-a2481ca6ae94"
      },
      "source": [
        "knn = KNeighborsClassifier(n_neighbors=2)\n",
        "\n",
        "k_list = list(range(1, 31)) # k variando de 1 a 30\n",
        "parametros = dict(n_neighbors=k_list) # converte a liste em dicionários de parâmetros\n",
        "\n",
        "grid = GridSearchCV(knn, parametros, cv=2, scoring='accuracy')\n",
        "# knn é o modelo que faremos o ajuste\n",
        "# cv quantidade de rodadas, maior que zero\n",
        "# scoring qual métrica usaremos para selecionar o melhor\n",
        "\n",
        "grid.fit(X_train, y_train)\n",
        "\n",
        "print(f\"Melhores parametros {grid.best_params_} com o valor de acurácia {grid.best_score_} \")\n",
        "plt.plot(k_list, grid.cv_results_['mean_test_score'], color='red', linestyle='dashed', marker='o')\n",
        "plt.xlabel(\"K (vizinhos)\")\n",
        "plt.ylabel(\"Accuracy\")\n",
        "plt.show()"
      ],
      "execution_count": null,
      "outputs": [
        {
          "output_type": "stream",
          "text": [
            "Melhores parametros {'n_neighbors': 1} com o valor de acurácia 0.98538766702438 \n"
          ],
          "name": "stdout"
        },
        {
          "output_type": "display_data",
          "data": {
            "image/png": "[encoded data removed]",
            "text/plain": [
              "<Figure size 720x576 with 1 Axes>"
            ]
          },
          "metadata": {
            "tags": [],
            "needs_background": "light"
          }
        }
      ]
    },
    {
      "cell_type": "markdown",
      "metadata": {
        "id": "oJeFG7_RdYp7"
      },
      "source": [
        "## Exercício 02 - Classificação de vinhos"
      ]
    },
    {
      "cell_type": "markdown",
      "metadata": {
        "id": "rCTMmQ08d5N9"
      },
      "source": [
        "### imports"
      ]
    },
    {
      "cell_type": "code",
      "metadata": {
        "id": "su38bighdag5"
      },
      "source": [
        "from sklearn import datasets\n",
        "import pandas as pd\n",
        "import matplotlib.pyplot as plt\n",
        "from sklearn.model_selection import train_test_split\n",
        "from sklearn.neighbors import KNeighborsClassifier\n",
        "from sklearn import metrics"
      ],
      "execution_count": null,
      "outputs": []
    },
    {
      "cell_type": "markdown",
      "metadata": {
        "id": "iWT_So0ed7bd"
      },
      "source": [
        "### biblioteca de visualização \n",
        "http://rasbt.github.io/mlxtend/"
      ]
    },
    {
      "cell_type": "code",
      "metadata": {
        "colab": {
          "base_uri": "https://localhost:8080/"
        },
        "id": "IYtnmCV7d6wL",
        "outputId": "e239636f-8c1e-469c-bd65-5ffcf408dac4"
      },
      "source": [
        "!pip install mlxtend\n",
        "from mlxtend.plotting import plot_decision_regions"
      ],
      "execution_count": null,
      "outputs": [
        {
          "output_type": "stream",
          "text": [
            "Requirement already satisfied: mlxtend in /usr/local/lib/python3.7/dist-packages (0.14.0)\n",
            "Requirement already satisfied: scipy>=0.17 in /usr/local/lib/python3.7/dist-packages (from mlxtend) (1.4.1)\n",
            "Requirement already satisfied: scikit-learn>=0.18 in /usr/local/lib/python3.7/dist-packages (from mlxtend) (0.22.2.post1)\n",
            "Requirement already satisfied: matplotlib>=1.5.1 in /usr/local/lib/python3.7/dist-packages (from mlxtend) (3.2.2)\n",
            "Requirement already satisfied: setuptools in /usr/local/lib/python3.7/dist-packages (from mlxtend) (56.1.0)\n",
            "Requirement already satisfied: numpy>=1.10.4 in /usr/local/lib/python3.7/dist-packages (from mlxtend) (1.19.5)\n",
            "Requirement already satisfied: pandas>=0.17.1 in /usr/local/lib/python3.7/dist-packages (from mlxtend) (1.1.5)\n",
            "Requirement already satisfied: joblib>=0.11 in /usr/local/lib/python3.7/dist-packages (from scikit-learn>=0.18->mlxtend) (1.0.1)\n",
            "Requirement already satisfied: pyparsing!=2.0.4,!=2.1.2,!=2.1.6,>=2.0.1 in /usr/local/lib/python3.7/dist-packages (from matplotlib>=1.5.1->mlxtend) (2.4.7)\n",
            "Requirement already satisfied: python-dateutil>=2.1 in /usr/local/lib/python3.7/dist-packages (from matplotlib>=1.5.1->mlxtend) (2.8.1)\n",
            "Requirement already satisfied: kiwisolver>=1.0.1 in /usr/local/lib/python3.7/dist-packages (from matplotlib>=1.5.1->mlxtend) (1.3.1)\n",
            "Requirement already satisfied: cycler>=0.10 in /usr/local/lib/python3.7/dist-packages (from matplotlib>=1.5.1->mlxtend) (0.10.0)\n",
            "Requirement already satisfied: pytz>=2017.2 in /usr/local/lib/python3.7/dist-packages (from pandas>=0.17.1->mlxtend) (2018.9)\n",
            "Requirement already satisfied: six>=1.5 in /usr/local/lib/python3.7/dist-packages (from python-dateutil>=2.1->matplotlib>=1.5.1->mlxtend) (1.15.0)\n"
          ],
          "name": "stdout"
        }
      ]
    },
    {
      "cell_type": "markdown",
      "metadata": {
        "id": "lz60rqcAeR1K"
      },
      "source": [
        "### Dataset base de vinhos\n",
        "https://archive.ics.uci.edu/ml/datasets/wine\n",
        "\n",
        "https://scikit-learn.org/stable/modules/generated/sklearn.datasets.load_wine.html#sklearn.datasets.load_wine\n"
      ]
    },
    {
      "cell_type": "code",
      "metadata": {
        "colab": {
          "base_uri": "https://localhost:8080/"
        },
        "id": "wG0G1AMWebwA",
        "outputId": "c4b2fd36-e095-45f9-c272-49bd1baee2d2"
      },
      "source": [
        "wine = datasets.load_wine()\n",
        "wine"
      ],
      "execution_count": null,
      "outputs": [
        {
          "output_type": "execute_result",
          "data": {
            "text/plain": [
              "{'DESCR': '.. _wine_dataset:\\n\\nWine recognition dataset\\n------------------------\\n\\n**Data Set Characteristics:**\\n\\n    :Number of Instances: 178 (50 in each of three classes)\\n    :Number of Attributes: 13 numeric, predictive attributes and the class\\n    :Attribute Information:\\n \\t\\t- Alcohol\\n \\t\\t- Malic acid\\n \\t\\t- Ash\\n\\t\\t- Alcalinity of ash  \\n \\t\\t- Magnesium\\n\\t\\t- Total phenols\\n \\t\\t- Flavanoids\\n \\t\\t- Nonflavanoid phenols\\n \\t\\t- Proanthocyanins\\n\\t\\t- Color intensity\\n \\t\\t- Hue\\n \\t\\t- OD280/OD315 of diluted wines\\n \\t\\t- Proline\\n\\n    - class:\\n            - class_0\\n            - class_1\\n            - class_2\\n\\t\\t\\n    :Summary Statistics:\\n    \\n    ============================= ==== ===== ======= =====\\n                                   Min   Max   Mean     SD\\n    ============================= ==== ===== ======= =====\\n    Alcohol:                      11.0  14.8    13.0   0.8\\n    Malic Acid:                   0.74  5.80    2.34  1.12\\n    Ash:                          1.36  3.23    2.36  0.27\\n    Alcalinity of Ash:            10.6  30.0    19.5   3.3\\n    Magnesium:                    70.0 162.0    99.7  14.3\\n    Total Phenols:                0.98  3.88    2.29  0.63\\n    Flavanoids:                   0.34  5.08    2.03  1.00\\n    Nonflavanoid Phenols:         0.13  0.66    0.36  0.12\\n    Proanthocyanins:              0.41  3.58    1.59  0.57\\n    Colour Intensity:              1.3  13.0     5.1   2.3\\n    Hue:                          0.48  1.71    0.96  0.23\\n    OD280/OD315 of diluted wines: 1.27  4.00    2.61  0.71\\n    Proline:                       278  1680     746   315\\n    ============================= ==== ===== ======= =====\\n\\n    :Missing Attribute Values: None\\n    :Class Distribution: class_0 (59), class_1 (71), class_2 (48)\\n    :Creator: R.A. Fisher\\n    :Donor: Michael Marshall (MARSHALL%PLU@io.arc.nasa.gov)\\n    :Date: July, 1988\\n\\nThis is a copy of UCI ML Wine recognition datasets.\\nhttps://archive.ics.uci.edu/ml/machine-learning-databases/wine/wine.data\\n\\nThe data is the results of a chemical analysis of wines grown in the same\\nregion in Italy by three different cultivators. There are thirteen different\\nmeasurements taken for different constituents found in the three types of\\nwine.\\n\\nOriginal Owners: \\n\\nForina, M. et al, PARVUS - \\nAn Extendible Package for Data Exploration, Classification and Correlation. \\nInstitute of Pharmaceutical and Food Analysis and Technologies,\\nVia Brigata Salerno, 16147 Genoa, Italy.\\n\\nCitation:\\n\\nLichman, M. (2013). UCI Machine Learning Repository\\n[https://archive.ics.uci.edu/ml]. Irvine, CA: University of California,\\nSchool of Information and Computer Science. \\n\\n.. topic:: References\\n\\n  (1) S. Aeberhard, D. Coomans and O. de Vel, \\n  Comparison of Classifiers in High Dimensional Settings, \\n  Tech. Rep. no. 92-02, (1992), Dept. of Computer Science and Dept. of  \\n  Mathematics and Statistics, James Cook University of North Queensland. \\n  (Also submitted to Technometrics). \\n\\n  The data was used with many others for comparing various \\n  classifiers. The classes are separable, though only RDA \\n  has achieved 100% correct classification. \\n  (RDA : 100%, QDA 99.4%, LDA 98.9%, 1NN 96.1% (z-transformed data)) \\n  (All results using the leave-one-out technique) \\n\\n  (2) S. Aeberhard, D. Coomans and O. de Vel, \\n  \"THE CLASSIFICATION PERFORMANCE OF RDA\" \\n  Tech. Rep. no. 92-01, (1992), Dept. of Computer Science and Dept. of \\n  Mathematics and Statistics, James Cook University of North Queensland. \\n  (Also submitted to Journal of Chemometrics).\\n',\n",
              " 'data': array([[1.423e+01, 1.710e+00, 2.430e+00, ..., 1.040e+00, 3.920e+00,\n",
              "         1.065e+03],\n",
              "        [1.320e+01, 1.780e+00, 2.140e+00, ..., 1.050e+00, 3.400e+00,\n",
              "         1.050e+03],\n",
              "        [1.316e+01, 2.360e+00, 2.670e+00, ..., 1.030e+00, 3.170e+00,\n",
              "         1.185e+03],\n",
              "        ...,\n",
              "        [1.327e+01, 4.280e+00, 2.260e+00, ..., 5.900e-01, 1.560e+00,\n",
              "         8.350e+02],\n",
              "        [1.317e+01, 2.590e+00, 2.370e+00, ..., 6.000e-01, 1.620e+00,\n",
              "         8.400e+02],\n",
              "        [1.413e+01, 4.100e+00, 2.740e+00, ..., 6.100e-01, 1.600e+00,\n",
              "         5.600e+02]]),\n",
              " 'feature_names': ['alcohol',\n",
              "  'malic_acid',\n",
              "  'ash',\n",
              "  'alcalinity_of_ash',\n",
              "  'magnesium',\n",
              "  'total_phenols',\n",
              "  'flavanoids',\n",
              "  'nonflavanoid_phenols',\n",
              "  'proanthocyanins',\n",
              "  'color_intensity',\n",
              "  'hue',\n",
              "  'od280/od315_of_diluted_wines',\n",
              "  'proline'],\n",
              " 'target': array([0, 0, 0, 0, 0, 0, 0, 0, 0, 0, 0, 0, 0, 0, 0, 0, 0, 0, 0, 0, 0, 0,\n",
              "        0, 0, 0, 0, 0, 0, 0, 0, 0, 0, 0, 0, 0, 0, 0, 0, 0, 0, 0, 0, 0, 0,\n",
              "        0, 0, 0, 0, 0, 0, 0, 0, 0, 0, 0, 0, 0, 0, 0, 1, 1, 1, 1, 1, 1, 1,\n",
              "        1, 1, 1, 1, 1, 1, 1, 1, 1, 1, 1, 1, 1, 1, 1, 1, 1, 1, 1, 1, 1, 1,\n",
              "        1, 1, 1, 1, 1, 1, 1, 1, 1, 1, 1, 1, 1, 1, 1, 1, 1, 1, 1, 1, 1, 1,\n",
              "        1, 1, 1, 1, 1, 1, 1, 1, 1, 1, 1, 1, 1, 1, 1, 1, 1, 1, 1, 1, 2, 2,\n",
              "        2, 2, 2, 2, 2, 2, 2, 2, 2, 2, 2, 2, 2, 2, 2, 2, 2, 2, 2, 2, 2, 2,\n",
              "        2, 2, 2, 2, 2, 2, 2, 2, 2, 2, 2, 2, 2, 2, 2, 2, 2, 2, 2, 2, 2, 2,\n",
              "        2, 2]),\n",
              " 'target_names': array(['class_0', 'class_1', 'class_2'], dtype='<U7')}"
            ]
          },
          "metadata": {
            "tags": []
          },
          "execution_count": 88
        }
      ]
    },
    {
      "cell_type": "code",
      "metadata": {
        "colab": {
          "base_uri": "https://localhost:8080/",
          "height": 217
        },
        "id": "AioPu9dOeihf",
        "outputId": "b0fac074-88b4-4cc2-bcde-2f5246923e09"
      },
      "source": [
        "# Criando um df a partir da base carregada\n",
        "df_wine = pd.DataFrame(data=wine.data, columns=wine.feature_names)\n",
        "df_wine['class'] = wine.target\n",
        "df_wine.head()"
      ],
      "execution_count": null,
      "outputs": [
        {
          "output_type": "execute_result",
          "data": {
            "text/html": [
              "<div>\n",
              "<style scoped>\n",
              "    .dataframe tbody tr th:only-of-type {\n",
              "        vertical-align: middle;\n",
              "    }\n",
              "\n",
              "    .dataframe tbody tr th {\n",
              "        vertical-align: top;\n",
              "    }\n",
              "\n",
              "    .dataframe thead th {\n",
              "        text-align: right;\n",
              "    }\n",
              "</style>\n",
              "<table border=\"1\" class=\"dataframe\">\n",
              "  <thead>\n",
              "    <tr style=\"text-align: right;\">\n",
              "      <th></th>\n",
              "      <th>alcohol</th>\n",
              "      <th>malic_acid</th>\n",
              "      <th>ash</th>\n",
              "      <th>alcalinity_of_ash</th>\n",
              "      <th>magnesium</th>\n",
              "      <th>total_phenols</th>\n",
              "      <th>flavanoids</th>\n",
              "      <th>nonflavanoid_phenols</th>\n",
              "      <th>proanthocyanins</th>\n",
              "      <th>color_intensity</th>\n",
              "      <th>hue</th>\n",
              "      <th>od280/od315_of_diluted_wines</th>\n",
              "      <th>proline</th>\n",
              "      <th>class</th>\n",
              "    </tr>\n",
              "  </thead>\n",
              "  <tbody>\n",
              "    <tr>\n",
              "      <th>0</th>\n",
              "      <td>14.23</td>\n",
              "      <td>1.71</td>\n",
              "      <td>2.43</td>\n",
              "      <td>15.6</td>\n",
              "      <td>127.0</td>\n",
              "      <td>2.80</td>\n",
              "      <td>3.06</td>\n",
              "      <td>0.28</td>\n",
              "      <td>2.29</td>\n",
              "      <td>5.64</td>\n",
              "      <td>1.04</td>\n",
              "      <td>3.92</td>\n",
              "      <td>1065.0</td>\n",
              "      <td>0</td>\n",
              "    </tr>\n",
              "    <tr>\n",
              "      <th>1</th>\n",
              "      <td>13.20</td>\n",
              "      <td>1.78</td>\n",
              "      <td>2.14</td>\n",
              "      <td>11.2</td>\n",
              "      <td>100.0</td>\n",
              "      <td>2.65</td>\n",
              "      <td>2.76</td>\n",
              "      <td>0.26</td>\n",
              "      <td>1.28</td>\n",
              "      <td>4.38</td>\n",
              "      <td>1.05</td>\n",
              "      <td>3.40</td>\n",
              "      <td>1050.0</td>\n",
              "      <td>0</td>\n",
              "    </tr>\n",
              "    <tr>\n",
              "      <th>2</th>\n",
              "      <td>13.16</td>\n",
              "      <td>2.36</td>\n",
              "      <td>2.67</td>\n",
              "      <td>18.6</td>\n",
              "      <td>101.0</td>\n",
              "      <td>2.80</td>\n",
              "      <td>3.24</td>\n",
              "      <td>0.30</td>\n",
              "      <td>2.81</td>\n",
              "      <td>5.68</td>\n",
              "      <td>1.03</td>\n",
              "      <td>3.17</td>\n",
              "      <td>1185.0</td>\n",
              "      <td>0</td>\n",
              "    </tr>\n",
              "    <tr>\n",
              "      <th>3</th>\n",
              "      <td>14.37</td>\n",
              "      <td>1.95</td>\n",
              "      <td>2.50</td>\n",
              "      <td>16.8</td>\n",
              "      <td>113.0</td>\n",
              "      <td>3.85</td>\n",
              "      <td>3.49</td>\n",
              "      <td>0.24</td>\n",
              "      <td>2.18</td>\n",
              "      <td>7.80</td>\n",
              "      <td>0.86</td>\n",
              "      <td>3.45</td>\n",
              "      <td>1480.0</td>\n",
              "      <td>0</td>\n",
              "    </tr>\n",
              "    <tr>\n",
              "      <th>4</th>\n",
              "      <td>13.24</td>\n",
              "      <td>2.59</td>\n",
              "      <td>2.87</td>\n",
              "      <td>21.0</td>\n",
              "      <td>118.0</td>\n",
              "      <td>2.80</td>\n",
              "      <td>2.69</td>\n",
              "      <td>0.39</td>\n",
              "      <td>1.82</td>\n",
              "      <td>4.32</td>\n",
              "      <td>1.04</td>\n",
              "      <td>2.93</td>\n",
              "      <td>735.0</td>\n",
              "      <td>0</td>\n",
              "    </tr>\n",
              "  </tbody>\n",
              "</table>\n",
              "</div>"
            ],
            "text/plain": [
              "   alcohol  malic_acid   ash  ...  od280/od315_of_diluted_wines  proline  class\n",
              "0    14.23        1.71  2.43  ...                          3.92   1065.0      0\n",
              "1    13.20        1.78  2.14  ...                          3.40   1050.0      0\n",
              "2    13.16        2.36  2.67  ...                          3.17   1185.0      0\n",
              "3    14.37        1.95  2.50  ...                          3.45   1480.0      0\n",
              "4    13.24        2.59  2.87  ...                          2.93    735.0      0\n",
              "\n",
              "[5 rows x 14 columns]"
            ]
          },
          "metadata": {
            "tags": []
          },
          "execution_count": 94
        }
      ]
    },
    {
      "cell_type": "markdown",
      "metadata": {
        "id": "b8qn7oUse1wz"
      },
      "source": [
        "### Explorando os dados"
      ]
    },
    {
      "cell_type": "code",
      "metadata": {
        "colab": {
          "base_uri": "https://localhost:8080/"
        },
        "id": "Q8HkCdDpfE6s",
        "outputId": "93218c82-558c-482e-ae3e-ad32da37b0fe"
      },
      "source": [
        "# informações gerais sobre os dados.\n",
        "df_wine.info()"
      ],
      "execution_count": null,
      "outputs": [
        {
          "output_type": "stream",
          "text": [
            "<class 'pandas.core.frame.DataFrame'>\n",
            "RangeIndex: 178 entries, 0 to 177\n",
            "Data columns (total 14 columns):\n",
            " #   Column                        Non-Null Count  Dtype  \n",
            "---  ------                        --------------  -----  \n",
            " 0   alcohol                       178 non-null    float64\n",
            " 1   malic_acid                    178 non-null    float64\n",
            " 2   ash                           178 non-null    float64\n",
            " 3   alcalinity_of_ash             178 non-null    float64\n",
            " 4   magnesium                     178 non-null    float64\n",
            " 5   total_phenols                 178 non-null    float64\n",
            " 6   flavanoids                    178 non-null    float64\n",
            " 7   nonflavanoid_phenols          178 non-null    float64\n",
            " 8   proanthocyanins               178 non-null    float64\n",
            " 9   color_intensity               178 non-null    float64\n",
            " 10  hue                           178 non-null    float64\n",
            " 11  od280/od315_of_diluted_wines  178 non-null    float64\n",
            " 12  proline                       178 non-null    float64\n",
            " 13  class                         178 non-null    int64  \n",
            "dtypes: float64(13), int64(1)\n",
            "memory usage: 19.6 KB\n"
          ],
          "name": "stdout"
        }
      ]
    },
    {
      "cell_type": "markdown",
      "metadata": {
        "id": "2U2gf4GGfOS4"
      },
      "source": [
        "* Podemos concluir que não há dados nulos. \n",
        "* Todas as colunas são numéricas, float64 ou int64\n",
        "* Existem 178 ocorrências (ou linhas)\n",
        "* Existem 14 colunas. Podemos intuir que são 13 features (caracteristicas) e 1 target (class).\n"
      ]
    },
    {
      "cell_type": "code",
      "metadata": {
        "colab": {
          "base_uri": "https://localhost:8080/",
          "height": 307
        },
        "id": "rNWLk_xxe31v",
        "outputId": "01778192-53b4-4745-bc44-7363db99c9c1"
      },
      "source": [
        "# analisando algumas métricas estatísticas sobre os dados\n",
        "df_wine.describe()"
      ],
      "execution_count": null,
      "outputs": [
        {
          "output_type": "execute_result",
          "data": {
            "text/html": [
              "<div>\n",
              "<style scoped>\n",
              "    .dataframe tbody tr th:only-of-type {\n",
              "        vertical-align: middle;\n",
              "    }\n",
              "\n",
              "    .dataframe tbody tr th {\n",
              "        vertical-align: top;\n",
              "    }\n",
              "\n",
              "    .dataframe thead th {\n",
              "        text-align: right;\n",
              "    }\n",
              "</style>\n",
              "<table border=\"1\" class=\"dataframe\">\n",
              "  <thead>\n",
              "    <tr style=\"text-align: right;\">\n",
              "      <th></th>\n",
              "      <th>alcohol</th>\n",
              "      <th>malic_acid</th>\n",
              "      <th>ash</th>\n",
              "      <th>alcalinity_of_ash</th>\n",
              "      <th>magnesium</th>\n",
              "      <th>total_phenols</th>\n",
              "      <th>flavanoids</th>\n",
              "      <th>nonflavanoid_phenols</th>\n",
              "      <th>proanthocyanins</th>\n",
              "      <th>color_intensity</th>\n",
              "      <th>hue</th>\n",
              "      <th>od280/od315_of_diluted_wines</th>\n",
              "      <th>proline</th>\n",
              "      <th>class</th>\n",
              "    </tr>\n",
              "  </thead>\n",
              "  <tbody>\n",
              "    <tr>\n",
              "      <th>count</th>\n",
              "      <td>178.000000</td>\n",
              "      <td>178.000000</td>\n",
              "      <td>178.000000</td>\n",
              "      <td>178.000000</td>\n",
              "      <td>178.000000</td>\n",
              "      <td>178.000000</td>\n",
              "      <td>178.000000</td>\n",
              "      <td>178.000000</td>\n",
              "      <td>178.000000</td>\n",
              "      <td>178.000000</td>\n",
              "      <td>178.000000</td>\n",
              "      <td>178.000000</td>\n",
              "      <td>178.000000</td>\n",
              "      <td>178.000000</td>\n",
              "    </tr>\n",
              "    <tr>\n",
              "      <th>mean</th>\n",
              "      <td>13.000618</td>\n",
              "      <td>2.336348</td>\n",
              "      <td>2.366517</td>\n",
              "      <td>19.494944</td>\n",
              "      <td>99.741573</td>\n",
              "      <td>2.295112</td>\n",
              "      <td>2.029270</td>\n",
              "      <td>0.361854</td>\n",
              "      <td>1.590899</td>\n",
              "      <td>5.058090</td>\n",
              "      <td>0.957449</td>\n",
              "      <td>2.611685</td>\n",
              "      <td>746.893258</td>\n",
              "      <td>0.938202</td>\n",
              "    </tr>\n",
              "    <tr>\n",
              "      <th>std</th>\n",
              "      <td>0.811827</td>\n",
              "      <td>1.117146</td>\n",
              "      <td>0.274344</td>\n",
              "      <td>3.339564</td>\n",
              "      <td>14.282484</td>\n",
              "      <td>0.625851</td>\n",
              "      <td>0.998859</td>\n",
              "      <td>0.124453</td>\n",
              "      <td>0.572359</td>\n",
              "      <td>2.318286</td>\n",
              "      <td>0.228572</td>\n",
              "      <td>0.709990</td>\n",
              "      <td>314.907474</td>\n",
              "      <td>0.775035</td>\n",
              "    </tr>\n",
              "    <tr>\n",
              "      <th>min</th>\n",
              "      <td>11.030000</td>\n",
              "      <td>0.740000</td>\n",
              "      <td>1.360000</td>\n",
              "      <td>10.600000</td>\n",
              "      <td>70.000000</td>\n",
              "      <td>0.980000</td>\n",
              "      <td>0.340000</td>\n",
              "      <td>0.130000</td>\n",
              "      <td>0.410000</td>\n",
              "      <td>1.280000</td>\n",
              "      <td>0.480000</td>\n",
              "      <td>1.270000</td>\n",
              "      <td>278.000000</td>\n",
              "      <td>0.000000</td>\n",
              "    </tr>\n",
              "    <tr>\n",
              "      <th>25%</th>\n",
              "      <td>12.362500</td>\n",
              "      <td>1.602500</td>\n",
              "      <td>2.210000</td>\n",
              "      <td>17.200000</td>\n",
              "      <td>88.000000</td>\n",
              "      <td>1.742500</td>\n",
              "      <td>1.205000</td>\n",
              "      <td>0.270000</td>\n",
              "      <td>1.250000</td>\n",
              "      <td>3.220000</td>\n",
              "      <td>0.782500</td>\n",
              "      <td>1.937500</td>\n",
              "      <td>500.500000</td>\n",
              "      <td>0.000000</td>\n",
              "    </tr>\n",
              "    <tr>\n",
              "      <th>50%</th>\n",
              "      <td>13.050000</td>\n",
              "      <td>1.865000</td>\n",
              "      <td>2.360000</td>\n",
              "      <td>19.500000</td>\n",
              "      <td>98.000000</td>\n",
              "      <td>2.355000</td>\n",
              "      <td>2.135000</td>\n",
              "      <td>0.340000</td>\n",
              "      <td>1.555000</td>\n",
              "      <td>4.690000</td>\n",
              "      <td>0.965000</td>\n",
              "      <td>2.780000</td>\n",
              "      <td>673.500000</td>\n",
              "      <td>1.000000</td>\n",
              "    </tr>\n",
              "    <tr>\n",
              "      <th>75%</th>\n",
              "      <td>13.677500</td>\n",
              "      <td>3.082500</td>\n",
              "      <td>2.557500</td>\n",
              "      <td>21.500000</td>\n",
              "      <td>107.000000</td>\n",
              "      <td>2.800000</td>\n",
              "      <td>2.875000</td>\n",
              "      <td>0.437500</td>\n",
              "      <td>1.950000</td>\n",
              "      <td>6.200000</td>\n",
              "      <td>1.120000</td>\n",
              "      <td>3.170000</td>\n",
              "      <td>985.000000</td>\n",
              "      <td>2.000000</td>\n",
              "    </tr>\n",
              "    <tr>\n",
              "      <th>max</th>\n",
              "      <td>14.830000</td>\n",
              "      <td>5.800000</td>\n",
              "      <td>3.230000</td>\n",
              "      <td>30.000000</td>\n",
              "      <td>162.000000</td>\n",
              "      <td>3.880000</td>\n",
              "      <td>5.080000</td>\n",
              "      <td>0.660000</td>\n",
              "      <td>3.580000</td>\n",
              "      <td>13.000000</td>\n",
              "      <td>1.710000</td>\n",
              "      <td>4.000000</td>\n",
              "      <td>1680.000000</td>\n",
              "      <td>2.000000</td>\n",
              "    </tr>\n",
              "  </tbody>\n",
              "</table>\n",
              "</div>"
            ],
            "text/plain": [
              "          alcohol  malic_acid  ...      proline       class\n",
              "count  178.000000  178.000000  ...   178.000000  178.000000\n",
              "mean    13.000618    2.336348  ...   746.893258    0.938202\n",
              "std      0.811827    1.117146  ...   314.907474    0.775035\n",
              "min     11.030000    0.740000  ...   278.000000    0.000000\n",
              "25%     12.362500    1.602500  ...   500.500000    0.000000\n",
              "50%     13.050000    1.865000  ...   673.500000    1.000000\n",
              "75%     13.677500    3.082500  ...   985.000000    2.000000\n",
              "max     14.830000    5.800000  ...  1680.000000    2.000000\n",
              "\n",
              "[8 rows x 14 columns]"
            ]
          },
          "metadata": {
            "tags": []
          },
          "execution_count": 96
        }
      ]
    },
    {
      "cell_type": "code",
      "metadata": {
        "colab": {
          "base_uri": "https://localhost:8080/"
        },
        "id": "734hV7ObgESY",
        "outputId": "e3a00bbb-b3d9-4e1a-aeb3-21e38cbe6067"
      },
      "source": [
        "# analisando as classes\n",
        "df_wine['class'].value_counts()"
      ],
      "execution_count": null,
      "outputs": [
        {
          "output_type": "execute_result",
          "data": {
            "text/plain": [
              "1    71\n",
              "0    59\n",
              "2    48\n",
              "Name: class, dtype: int64"
            ]
          },
          "metadata": {
            "tags": []
          },
          "execution_count": 99
        }
      ]
    },
    {
      "cell_type": "markdown",
      "metadata": {
        "id": "sStru-OSgNrB"
      },
      "source": [
        "A quantidade de ocorrência por classe não é balanceda."
      ]
    },
    {
      "cell_type": "markdown",
      "metadata": {
        "id": "zy0PUhLMgXlp"
      },
      "source": [
        "### Separação dos dados em train e test"
      ]
    },
    {
      "cell_type": "code",
      "metadata": {
        "id": "hWNOVJRygMxV"
      },
      "source": [
        "# usaremos uma proporção de 80% para train e 20% para teste, indicadda em test_size=0.2\n",
        "X_train, X_test, y_train, y_test = train_test_split(df_wine.drop('class',axis=1), df_wine['class'], test_size=0.2)"
      ],
      "execution_count": null,
      "outputs": []
    },
    {
      "cell_type": "markdown",
      "metadata": {
        "id": "g3SyRxrlgzTT"
      },
      "source": [
        "### O modelo - <a href=\"https://scikit-learn.org/stable/modules/generated/sklearn.neighbors.KNeighborsClassifier.html\">KNN</a>\n",
        "\n",
        "* n_neighbors: Número de vizinhos (Default=5)\n",
        "* weights: Peso de amostras vizinhas (Default=uniform).\n",
        "* metric: Métrica utilizada para o cálculo de distância (Default=minkowski).\n",
        "* p: Parametro de poder para a métrica (Default=2).\n",
        "* n_jobs: Número de jobs paralelos para executar no momento da busca de vizinhos. (Default=1)"
      ]
    },
    {
      "cell_type": "code",
      "metadata": {
        "id": "lqM4n9v9gwgF"
      },
      "source": [
        "# para nosso caso usaremos k = 1, ou seja, somente 1 (um) vizinho\n",
        "knn = KNeighborsClassifier(n_neighbors=1)"
      ],
      "execution_count": null,
      "outputs": []
    },
    {
      "cell_type": "code",
      "metadata": {
        "colab": {
          "base_uri": "https://localhost:8080/"
        },
        "id": "pR_5BANQhXEC",
        "outputId": "cb29499b-d23b-425f-e265-0ca4d9f0c080"
      },
      "source": [
        "knn.fit(X_train, y_train)"
      ],
      "execution_count": null,
      "outputs": [
        {
          "output_type": "execute_result",
          "data": {
            "text/plain": [
              "KNeighborsClassifier(algorithm='auto', leaf_size=30, metric='minkowski',\n",
              "                     metric_params=None, n_jobs=None, n_neighbors=1, p=2,\n",
              "                     weights='uniform')"
            ]
          },
          "metadata": {
            "tags": []
          },
          "execution_count": 103
        }
      ]
    },
    {
      "cell_type": "code",
      "metadata": {
        "colab": {
          "base_uri": "https://localhost:8080/"
        },
        "id": "_bqA1d6whYxi",
        "outputId": "cd245db2-fc89-46e0-8c9a-83e73321eb25"
      },
      "source": [
        "y_predito = knn.predict(X_test)\n",
        "y_predito"
      ],
      "execution_count": null,
      "outputs": [
        {
          "output_type": "execute_result",
          "data": {
            "text/plain": [
              "array([0, 1, 1, 1, 0, 1, 0, 1, 0, 0, 0, 0, 1, 1, 1, 2, 1, 0, 1, 1, 1, 2,\n",
              "       1, 1, 1, 1, 2, 0, 2, 1, 0, 1, 0, 0, 2, 1])"
            ]
          },
          "metadata": {
            "tags": []
          },
          "execution_count": 104
        }
      ]
    },
    {
      "cell_type": "markdown",
      "metadata": {
        "id": "Rk65EqnPhd2w"
      },
      "source": [
        "### Métricas"
      ]
    },
    {
      "cell_type": "markdown",
      "metadata": {
        "id": "DELaFVvOiptk"
      },
      "source": [
        "#### Matriz de confusão"
      ]
    },
    {
      "cell_type": "code",
      "metadata": {
        "colab": {
          "base_uri": "https://localhost:8080/"
        },
        "id": "8ScFXxX5hfsr",
        "outputId": "48bf4fdd-d713-4001-da8b-b44da9e94bd1"
      },
      "source": [
        "print(pd.crosstab(y_test, y_predito, rownames=['Real'], colnames=['Predito'], margins=True))"
      ],
      "execution_count": null,
      "outputs": [
        {
          "output_type": "stream",
          "text": [
            "Predito   0   1  2  All\n",
            "Real                   \n",
            "0        11   0  0   11\n",
            "1         1  13  2   16\n",
            "2         0   6  3    9\n",
            "All      12  19  5   36\n"
          ],
          "name": "stdout"
        }
      ]
    },
    {
      "cell_type": "markdown",
      "metadata": {
        "id": "cLN-3rgFiUHO"
      },
      "source": [
        "Na matriz de confusão, qualque valor for da diagonal principal é um erro. "
      ]
    },
    {
      "cell_type": "markdown",
      "metadata": {
        "id": "epUKiebvisO9"
      },
      "source": [
        "#### Recall, Precision, f1-score, ..."
      ]
    },
    {
      "cell_type": "code",
      "metadata": {
        "colab": {
          "base_uri": "https://localhost:8080/"
        },
        "id": "0Wz08D49ickl",
        "outputId": "876019cd-af2b-4e20-8727-8ca42e8ec79a"
      },
      "source": [
        "print(metrics.classification_report(y_test, y_predito, target_names=wine.target_names))"
      ],
      "execution_count": null,
      "outputs": [
        {
          "output_type": "stream",
          "text": [
            "              precision    recall  f1-score   support\n",
            "\n",
            "     class_0       0.92      1.00      0.96        11\n",
            "     class_1       0.68      0.81      0.74        16\n",
            "     class_2       0.60      0.33      0.43         9\n",
            "\n",
            "    accuracy                           0.75        36\n",
            "   macro avg       0.73      0.72      0.71        36\n",
            "weighted avg       0.73      0.75      0.73        36\n",
            "\n"
          ],
          "name": "stdout"
        }
      ]
    },
    {
      "cell_type": "markdown",
      "metadata": {
        "id": "70btoO_Ei7S8"
      },
      "source": [
        "### Ajustando os hiper-parâmetros\n",
        "\n",
        "Nesse caso vamos ajustar a quantidade de vizinhos, com isso encontraremos a quantidade de vizinho que fornece o menor erro.**negrito**"
      ]
    },
    {
      "cell_type": "code",
      "metadata": {
        "colab": {
          "base_uri": "https://localhost:8080/"
        },
        "id": "dT2ihYwEjPvb",
        "outputId": "92f1afba-262c-4284-b1e3-65e3a6f75ab7"
      },
      "source": [
        "# variamos os viznhos de 1 a 30\n",
        "k_list = list(range(1,31))\n",
        "\n",
        "# Variamos os pesos entre uniforme e distance\n",
        "weight_list = ['uniform','distance']\n",
        "\n",
        "# variamos p entre 1 e 2\n",
        "p_list = [1,2]\n",
        "\n",
        "parametros = dict(n_neighbors=k_list, weights=weight_list, p=p_list)\n",
        "parametros"
      ],
      "execution_count": null,
      "outputs": [
        {
          "output_type": "execute_result",
          "data": {
            "text/plain": [
              "{'n_neighbors': [1,\n",
              "  2,\n",
              "  3,\n",
              "  4,\n",
              "  5,\n",
              "  6,\n",
              "  7,\n",
              "  8,\n",
              "  9,\n",
              "  10,\n",
              "  11,\n",
              "  12,\n",
              "  13,\n",
              "  14,\n",
              "  15,\n",
              "  16,\n",
              "  17,\n",
              "  18,\n",
              "  19,\n",
              "  20,\n",
              "  21,\n",
              "  22,\n",
              "  23,\n",
              "  24,\n",
              "  25,\n",
              "  26,\n",
              "  27,\n",
              "  28,\n",
              "  29,\n",
              "  30],\n",
              " 'p': [1, 2],\n",
              " 'weights': ['uniform', 'distance']}"
            ]
          },
          "metadata": {
            "tags": []
          },
          "execution_count": 119
        }
      ]
    },
    {
      "cell_type": "code",
      "metadata": {
        "colab": {
          "base_uri": "https://localhost:8080/"
        },
        "id": "zaQGzDLcj2X8",
        "outputId": "9cf13df3-7f92-4aed-dbff-476f6c97cb36"
      },
      "source": [
        "# cv é a quantidade de varificações por conjunto\n",
        "# scoring é a métrica usada para obter o melhor modelo, estamos usando accuracy\n",
        "grid = GridSearchCV(knn, parametros, cv=5, scoring='accuracy')\n",
        "grid.fit(df_wine.drop('class',axis=1),df_wine['class'])"
      ],
      "execution_count": null,
      "outputs": [
        {
          "output_type": "execute_result",
          "data": {
            "text/plain": [
              "GridSearchCV(cv=5, error_score=nan,\n",
              "             estimator=KNeighborsClassifier(algorithm='auto', leaf_size=30,\n",
              "                                            metric='minkowski',\n",
              "                                            metric_params=None, n_jobs=None,\n",
              "                                            n_neighbors=1, p=2,\n",
              "                                            weights='uniform'),\n",
              "             iid='deprecated', n_jobs=None,\n",
              "             param_grid={'n_neighbors': [1, 2, 3, 4, 5, 6, 7, 8, 9, 10, 11, 12,\n",
              "                                         13, 14, 15, 16, 17, 18, 19, 20, 21, 22,\n",
              "                                         23, 24, 25, 26, 27, 28, 29, 30],\n",
              "                         'p': [1, 2], 'weights': ['uniform', 'distance']},\n",
              "             pre_dispatch='2*n_jobs', refit=True, return_train_score=False,\n",
              "             scoring='accuracy', verbose=0)"
            ]
          },
          "metadata": {
            "tags": []
          },
          "execution_count": 121
        }
      ]
    },
    {
      "cell_type": "code",
      "metadata": {
        "colab": {
          "base_uri": "https://localhost:8080/"
        },
        "id": "yJPW2v7xkhmS",
        "outputId": "c4cc0357-e6be-4e5c-df61-e2be59300024"
      },
      "source": [
        "# o atributo cv_results_ contém todos os resultados coletados.\n",
        "grid.cv_results_"
      ],
      "execution_count": null,
      "outputs": [
        {
          "output_type": "execute_result",
          "data": {
            "text/plain": [
              "{'mean_fit_time': array([0.00191894, 0.0018888 , 0.00219936, 0.00192504, 0.00192995,\n",
              "        0.00198226, 0.00204749, 0.00205059, 0.00191627, 0.00220184,\n",
              "        0.00161805, 0.00148258, 0.00150943, 0.00145416, 0.00146437,\n",
              "        0.00144925, 0.00148406, 0.00148783, 0.00150137, 0.00139489,\n",
              "        0.00140696, 0.00177579, 0.00193243, 0.00153103, 0.00143747,\n",
              "        0.00140786, 0.00162215, 0.00141573, 0.00205812, 0.00217061,\n",
              "        0.00157743, 0.0015492 , 0.00200262, 0.00167112, 0.0017849 ,\n",
              "        0.00162563, 0.00164332, 0.00156393, 0.00156465, 0.00172515,\n",
              "        0.00171127, 0.00158615, 0.00162954, 0.00147734, 0.00151501,\n",
              "        0.00142913, 0.0013978 , 0.00140557, 0.00146203, 0.00142536,\n",
              "        0.00151877, 0.00147557, 0.00189958, 0.00164852, 0.0016541 ,\n",
              "        0.00175343, 0.00160494, 0.00169272, 0.0019134 , 0.00152559,\n",
              "        0.00154061, 0.00143709, 0.00197301, 0.00158749, 0.00152764,\n",
              "        0.00152407, 0.00153379, 0.00144682, 0.00197673, 0.00148368,\n",
              "        0.00184054, 0.00194821, 0.00149479, 0.00154104, 0.00161633,\n",
              "        0.00154219, 0.00148249, 0.00149651, 0.00147991, 0.00141511,\n",
              "        0.00146565, 0.00144424, 0.00143785, 0.00143137, 0.00143967,\n",
              "        0.00144897, 0.0014462 , 0.00142584, 0.00143027, 0.00140605,\n",
              "        0.00141587, 0.00142488, 0.00140367, 0.00140481, 0.00142531,\n",
              "        0.00143361, 0.00151272, 0.00161481, 0.00153403, 0.00149355,\n",
              "        0.00172253, 0.00206046, 0.00159211, 0.00186825, 0.00143676,\n",
              "        0.00144744, 0.00143938, 0.00145125, 0.00159297, 0.00144887,\n",
              "        0.00151205, 0.00148563, 0.00152044, 0.0014822 , 0.00193472,\n",
              "        0.00160398, 0.00220542, 0.00161228, 0.00154061, 0.00152111]),\n",
              " 'mean_score_time': array([0.00305882, 0.00232024, 0.00342021, 0.00198102, 0.0031126 ,\n",
              "        0.00199599, 0.0031456 , 0.00201726, 0.00341253, 0.00227613,\n",
              "        0.0027669 , 0.00156484, 0.00268359, 0.00164504, 0.002599  ,\n",
              "        0.0015729 , 0.00264764, 0.00153637, 0.0026988 , 0.00148759,\n",
              "        0.00240073, 0.00161333, 0.00318446, 0.00156832, 0.00242953,\n",
              "        0.00149632, 0.00281382, 0.001548  , 0.00513387, 0.00217514,\n",
              "        0.00271411, 0.00170679, 0.00331063, 0.0018322 , 0.00303712,\n",
              "        0.00170989, 0.00281339, 0.00169349, 0.00269437, 0.00166845,\n",
              "        0.00330925, 0.00173583, 0.0028461 , 0.00160456, 0.00261946,\n",
              "        0.0016243 , 0.00241408, 0.0015399 , 0.00252776, 0.00158334,\n",
              "        0.00259256, 0.00181961, 0.00304046, 0.00170708, 0.00304241,\n",
              "        0.00173306, 0.00279059, 0.00175796, 0.00296569, 0.00177326,\n",
              "        0.00261784, 0.00159984, 0.00339098, 0.00168886, 0.00266023,\n",
              "        0.0016407 , 0.0026557 , 0.00158048, 0.00313063, 0.00163813,\n",
              "        0.00420771, 0.00225735, 0.00257769, 0.00176959, 0.00266428,\n",
              "        0.00171623, 0.00266714, 0.0016479 , 0.00254178, 0.00157185,\n",
              "        0.00252352, 0.00161076, 0.00275221, 0.00164299, 0.00251856,\n",
              "        0.00172367, 0.00251527, 0.0016983 , 0.00256782, 0.00157218,\n",
              "        0.00247674, 0.00163298, 0.00249414, 0.0016006 , 0.00257106,\n",
              "        0.00159993, 0.00261273, 0.00182948, 0.00282192, 0.00174785,\n",
              "        0.00335455, 0.00259309, 0.00279379, 0.00204072, 0.00255523,\n",
              "        0.00171323, 0.00259814, 0.00165043, 0.00261564, 0.00168562,\n",
              "        0.00263009, 0.00174985, 0.00268869, 0.001754  , 0.00341825,\n",
              "        0.00196114, 0.00344028, 0.00175638, 0.00273714, 0.00172086]),\n",
              " 'mean_test_score': array([0.80936508, 0.80936508, 0.72507937, 0.72507937, 0.74793651,\n",
              "        0.80936508, 0.66365079, 0.72507937, 0.75904762, 0.78142857,\n",
              "        0.70285714, 0.72507937, 0.73111111, 0.77031746, 0.68015873,\n",
              "        0.71396825, 0.71936508, 0.74190476, 0.69126984, 0.71952381,\n",
              "        0.74761905, 0.76460317, 0.69142857, 0.71396825, 0.76444444,\n",
              "        0.75873016, 0.68063492, 0.71396825, 0.7084127 , 0.7647619 ,\n",
              "        0.68015873, 0.7084127 , 0.77555556, 0.77587302, 0.70253968,\n",
              "        0.71936508, 0.76412698, 0.77031746, 0.69111111, 0.69698413,\n",
              "        0.74730159, 0.75904762, 0.67984127, 0.71952381, 0.77555556,\n",
              "        0.77031746, 0.69142857, 0.71396825, 0.75857143, 0.7815873 ,\n",
              "        0.70793651, 0.71380952, 0.76444444, 0.77603175, 0.70285714,\n",
              "        0.70825397, 0.77      , 0.78714286, 0.71380952, 0.7084127 ,\n",
              "        0.7531746 , 0.76492063, 0.69730159, 0.71984127, 0.74730159,\n",
              "        0.77603175, 0.69714286, 0.71984127, 0.74206349, 0.77047619,\n",
              "        0.70285714, 0.70857143, 0.73619048, 0.77587302, 0.70285714,\n",
              "        0.71984127, 0.7252381 , 0.77587302, 0.70825397, 0.7084127 ,\n",
              "        0.72507937, 0.77587302, 0.71952381, 0.70857143, 0.7084127 ,\n",
              "        0.7647619 , 0.70253968, 0.71396825, 0.73619048, 0.77015873,\n",
              "        0.70253968, 0.70857143, 0.72507937, 0.75888889, 0.69698413,\n",
              "        0.70857143, 0.71952381, 0.77      , 0.7084127 , 0.70285714,\n",
              "        0.71380952, 0.76444444, 0.69698413, 0.7084127 , 0.72507937,\n",
              "        0.77015873, 0.70825397, 0.70825397, 0.7252381 , 0.77031746,\n",
              "        0.71396825, 0.71396825, 0.73079365, 0.77571429, 0.71968254,\n",
              "        0.69714286, 0.7252381 , 0.77015873, 0.71968254, 0.71396825]),\n",
              " 'param_n_neighbors': masked_array(data=[1, 1, 1, 1, 2, 2, 2, 2, 3, 3, 3, 3, 4, 4, 4, 4, 5, 5,\n",
              "                    5, 5, 6, 6, 6, 6, 7, 7, 7, 7, 8, 8, 8, 8, 9, 9, 9, 9,\n",
              "                    10, 10, 10, 10, 11, 11, 11, 11, 12, 12, 12, 12, 13, 13,\n",
              "                    13, 13, 14, 14, 14, 14, 15, 15, 15, 15, 16, 16, 16, 16,\n",
              "                    17, 17, 17, 17, 18, 18, 18, 18, 19, 19, 19, 19, 20, 20,\n",
              "                    20, 20, 21, 21, 21, 21, 22, 22, 22, 22, 23, 23, 23, 23,\n",
              "                    24, 24, 24, 24, 25, 25, 25, 25, 26, 26, 26, 26, 27, 27,\n",
              "                    27, 27, 28, 28, 28, 28, 29, 29, 29, 29, 30, 30, 30, 30],\n",
              "              mask=[False, False, False, False, False, False, False, False,\n",
              "                    False, False, False, False, False, False, False, False,\n",
              "                    False, False, False, False, False, False, False, False,\n",
              "                    False, False, False, False, False, False, False, False,\n",
              "                    False, False, False, False, False, False, False, False,\n",
              "                    False, False, False, False, False, False, False, False,\n",
              "                    False, False, False, False, False, False, False, False,\n",
              "                    False, False, False, False, False, False, False, False,\n",
              "                    False, False, False, False, False, False, False, False,\n",
              "                    False, False, False, False, False, False, False, False,\n",
              "                    False, False, False, False, False, False, False, False,\n",
              "                    False, False, False, False, False, False, False, False,\n",
              "                    False, False, False, False, False, False, False, False,\n",
              "                    False, False, False, False, False, False, False, False,\n",
              "                    False, False, False, False, False, False, False, False],\n",
              "        fill_value='?',\n",
              "             dtype=object),\n",
              " 'param_p': masked_array(data=[1, 1, 2, 2, 1, 1, 2, 2, 1, 1, 2, 2, 1, 1, 2, 2, 1, 1,\n",
              "                    2, 2, 1, 1, 2, 2, 1, 1, 2, 2, 1, 1, 2, 2, 1, 1, 2, 2,\n",
              "                    1, 1, 2, 2, 1, 1, 2, 2, 1, 1, 2, 2, 1, 1, 2, 2, 1, 1,\n",
              "                    2, 2, 1, 1, 2, 2, 1, 1, 2, 2, 1, 1, 2, 2, 1, 1, 2, 2,\n",
              "                    1, 1, 2, 2, 1, 1, 2, 2, 1, 1, 2, 2, 1, 1, 2, 2, 1, 1,\n",
              "                    2, 2, 1, 1, 2, 2, 1, 1, 2, 2, 1, 1, 2, 2, 1, 1, 2, 2,\n",
              "                    1, 1, 2, 2, 1, 1, 2, 2, 1, 1, 2, 2],\n",
              "              mask=[False, False, False, False, False, False, False, False,\n",
              "                    False, False, False, False, False, False, False, False,\n",
              "                    False, False, False, False, False, False, False, False,\n",
              "                    False, False, False, False, False, False, False, False,\n",
              "                    False, False, False, False, False, False, False, False,\n",
              "                    False, False, False, False, False, False, False, False,\n",
              "                    False, False, False, False, False, False, False, False,\n",
              "                    False, False, False, False, False, False, False, False,\n",
              "                    False, False, False, False, False, False, False, False,\n",
              "                    False, False, False, False, False, False, False, False,\n",
              "                    False, False, False, False, False, False, False, False,\n",
              "                    False, False, False, False, False, False, False, False,\n",
              "                    False, False, False, False, False, False, False, False,\n",
              "                    False, False, False, False, False, False, False, False,\n",
              "                    False, False, False, False, False, False, False, False],\n",
              "        fill_value='?',\n",
              "             dtype=object),\n",
              " 'param_weights': masked_array(data=['uniform', 'distance', 'uniform', 'distance',\n",
              "                    'uniform', 'distance', 'uniform', 'distance',\n",
              "                    'uniform', 'distance', 'uniform', 'distance',\n",
              "                    'uniform', 'distance', 'uniform', 'distance',\n",
              "                    'uniform', 'distance', 'uniform', 'distance',\n",
              "                    'uniform', 'distance', 'uniform', 'distance',\n",
              "                    'uniform', 'distance', 'uniform', 'distance',\n",
              "                    'uniform', 'distance', 'uniform', 'distance',\n",
              "                    'uniform', 'distance', 'uniform', 'distance',\n",
              "                    'uniform', 'distance', 'uniform', 'distance',\n",
              "                    'uniform', 'distance', 'uniform', 'distance',\n",
              "                    'uniform', 'distance', 'uniform', 'distance',\n",
              "                    'uniform', 'distance', 'uniform', 'distance',\n",
              "                    'uniform', 'distance', 'uniform', 'distance',\n",
              "                    'uniform', 'distance', 'uniform', 'distance',\n",
              "                    'uniform', 'distance', 'uniform', 'distance',\n",
              "                    'uniform', 'distance', 'uniform', 'distance',\n",
              "                    'uniform', 'distance', 'uniform', 'distance',\n",
              "                    'uniform', 'distance', 'uniform', 'distance',\n",
              "                    'uniform', 'distance', 'uniform', 'distance',\n",
              "                    'uniform', 'distance', 'uniform', 'distance',\n",
              "                    'uniform', 'distance', 'uniform', 'distance',\n",
              "                    'uniform', 'distance', 'uniform', 'distance',\n",
              "                    'uniform', 'distance', 'uniform', 'distance',\n",
              "                    'uniform', 'distance', 'uniform', 'distance',\n",
              "                    'uniform', 'distance', 'uniform', 'distance',\n",
              "                    'uniform', 'distance', 'uniform', 'distance',\n",
              "                    'uniform', 'distance', 'uniform', 'distance',\n",
              "                    'uniform', 'distance', 'uniform', 'distance',\n",
              "                    'uniform', 'distance', 'uniform', 'distance'],\n",
              "              mask=[False, False, False, False, False, False, False, False,\n",
              "                    False, False, False, False, False, False, False, False,\n",
              "                    False, False, False, False, False, False, False, False,\n",
              "                    False, False, False, False, False, False, False, False,\n",
              "                    False, False, False, False, False, False, False, False,\n",
              "                    False, False, False, False, False, False, False, False,\n",
              "                    False, False, False, False, False, False, False, False,\n",
              "                    False, False, False, False, False, False, False, False,\n",
              "                    False, False, False, False, False, False, False, False,\n",
              "                    False, False, False, False, False, False, False, False,\n",
              "                    False, False, False, False, False, False, False, False,\n",
              "                    False, False, False, False, False, False, False, False,\n",
              "                    False, False, False, False, False, False, False, False,\n",
              "                    False, False, False, False, False, False, False, False,\n",
              "                    False, False, False, False, False, False, False, False],\n",
              "        fill_value='?',\n",
              "             dtype=object),\n",
              " 'params': [{'n_neighbors': 1, 'p': 1, 'weights': 'uniform'},\n",
              "  {'n_neighbors': 1, 'p': 1, 'weights': 'distance'},\n",
              "  {'n_neighbors': 1, 'p': 2, 'weights': 'uniform'},\n",
              "  {'n_neighbors': 1, 'p': 2, 'weights': 'distance'},\n",
              "  {'n_neighbors': 2, 'p': 1, 'weights': 'uniform'},\n",
              "  {'n_neighbors': 2, 'p': 1, 'weights': 'distance'},\n",
              "  {'n_neighbors': 2, 'p': 2, 'weights': 'uniform'},\n",
              "  {'n_neighbors': 2, 'p': 2, 'weights': 'distance'},\n",
              "  {'n_neighbors': 3, 'p': 1, 'weights': 'uniform'},\n",
              "  {'n_neighbors': 3, 'p': 1, 'weights': 'distance'},\n",
              "  {'n_neighbors': 3, 'p': 2, 'weights': 'uniform'},\n",
              "  {'n_neighbors': 3, 'p': 2, 'weights': 'distance'},\n",
              "  {'n_neighbors': 4, 'p': 1, 'weights': 'uniform'},\n",
              "  {'n_neighbors': 4, 'p': 1, 'weights': 'distance'},\n",
              "  {'n_neighbors': 4, 'p': 2, 'weights': 'uniform'},\n",
              "  {'n_neighbors': 4, 'p': 2, 'weights': 'distance'},\n",
              "  {'n_neighbors': 5, 'p': 1, 'weights': 'uniform'},\n",
              "  {'n_neighbors': 5, 'p': 1, 'weights': 'distance'},\n",
              "  {'n_neighbors': 5, 'p': 2, 'weights': 'uniform'},\n",
              "  {'n_neighbors': 5, 'p': 2, 'weights': 'distance'},\n",
              "  {'n_neighbors': 6, 'p': 1, 'weights': 'uniform'},\n",
              "  {'n_neighbors': 6, 'p': 1, 'weights': 'distance'},\n",
              "  {'n_neighbors': 6, 'p': 2, 'weights': 'uniform'},\n",
              "  {'n_neighbors': 6, 'p': 2, 'weights': 'distance'},\n",
              "  {'n_neighbors': 7, 'p': 1, 'weights': 'uniform'},\n",
              "  {'n_neighbors': 7, 'p': 1, 'weights': 'distance'},\n",
              "  {'n_neighbors': 7, 'p': 2, 'weights': 'uniform'},\n",
              "  {'n_neighbors': 7, 'p': 2, 'weights': 'distance'},\n",
              "  {'n_neighbors': 8, 'p': 1, 'weights': 'uniform'},\n",
              "  {'n_neighbors': 8, 'p': 1, 'weights': 'distance'},\n",
              "  {'n_neighbors': 8, 'p': 2, 'weights': 'uniform'},\n",
              "  {'n_neighbors': 8, 'p': 2, 'weights': 'distance'},\n",
              "  {'n_neighbors': 9, 'p': 1, 'weights': 'uniform'},\n",
              "  {'n_neighbors': 9, 'p': 1, 'weights': 'distance'},\n",
              "  {'n_neighbors': 9, 'p': 2, 'weights': 'uniform'},\n",
              "  {'n_neighbors': 9, 'p': 2, 'weights': 'distance'},\n",
              "  {'n_neighbors': 10, 'p': 1, 'weights': 'uniform'},\n",
              "  {'n_neighbors': 10, 'p': 1, 'weights': 'distance'},\n",
              "  {'n_neighbors': 10, 'p': 2, 'weights': 'uniform'},\n",
              "  {'n_neighbors': 10, 'p': 2, 'weights': 'distance'},\n",
              "  {'n_neighbors': 11, 'p': 1, 'weights': 'uniform'},\n",
              "  {'n_neighbors': 11, 'p': 1, 'weights': 'distance'},\n",
              "  {'n_neighbors': 11, 'p': 2, 'weights': 'uniform'},\n",
              "  {'n_neighbors': 11, 'p': 2, 'weights': 'distance'},\n",
              "  {'n_neighbors': 12, 'p': 1, 'weights': 'uniform'},\n",
              "  {'n_neighbors': 12, 'p': 1, 'weights': 'distance'},\n",
              "  {'n_neighbors': 12, 'p': 2, 'weights': 'uniform'},\n",
              "  {'n_neighbors': 12, 'p': 2, 'weights': 'distance'},\n",
              "  {'n_neighbors': 13, 'p': 1, 'weights': 'uniform'},\n",
              "  {'n_neighbors': 13, 'p': 1, 'weights': 'distance'},\n",
              "  {'n_neighbors': 13, 'p': 2, 'weights': 'uniform'},\n",
              "  {'n_neighbors': 13, 'p': 2, 'weights': 'distance'},\n",
              "  {'n_neighbors': 14, 'p': 1, 'weights': 'uniform'},\n",
              "  {'n_neighbors': 14, 'p': 1, 'weights': 'distance'},\n",
              "  {'n_neighbors': 14, 'p': 2, 'weights': 'uniform'},\n",
              "  {'n_neighbors': 14, 'p': 2, 'weights': 'distance'},\n",
              "  {'n_neighbors': 15, 'p': 1, 'weights': 'uniform'},\n",
              "  {'n_neighbors': 15, 'p': 1, 'weights': 'distance'},\n",
              "  {'n_neighbors': 15, 'p': 2, 'weights': 'uniform'},\n",
              "  {'n_neighbors': 15, 'p': 2, 'weights': 'distance'},\n",
              "  {'n_neighbors': 16, 'p': 1, 'weights': 'uniform'},\n",
              "  {'n_neighbors': 16, 'p': 1, 'weights': 'distance'},\n",
              "  {'n_neighbors': 16, 'p': 2, 'weights': 'uniform'},\n",
              "  {'n_neighbors': 16, 'p': 2, 'weights': 'distance'},\n",
              "  {'n_neighbors': 17, 'p': 1, 'weights': 'uniform'},\n",
              "  {'n_neighbors': 17, 'p': 1, 'weights': 'distance'},\n",
              "  {'n_neighbors': 17, 'p': 2, 'weights': 'uniform'},\n",
              "  {'n_neighbors': 17, 'p': 2, 'weights': 'distance'},\n",
              "  {'n_neighbors': 18, 'p': 1, 'weights': 'uniform'},\n",
              "  {'n_neighbors': 18, 'p': 1, 'weights': 'distance'},\n",
              "  {'n_neighbors': 18, 'p': 2, 'weights': 'uniform'},\n",
              "  {'n_neighbors': 18, 'p': 2, 'weights': 'distance'},\n",
              "  {'n_neighbors': 19, 'p': 1, 'weights': 'uniform'},\n",
              "  {'n_neighbors': 19, 'p': 1, 'weights': 'distance'},\n",
              "  {'n_neighbors': 19, 'p': 2, 'weights': 'uniform'},\n",
              "  {'n_neighbors': 19, 'p': 2, 'weights': 'distance'},\n",
              "  {'n_neighbors': 20, 'p': 1, 'weights': 'uniform'},\n",
              "  {'n_neighbors': 20, 'p': 1, 'weights': 'distance'},\n",
              "  {'n_neighbors': 20, 'p': 2, 'weights': 'uniform'},\n",
              "  {'n_neighbors': 20, 'p': 2, 'weights': 'distance'},\n",
              "  {'n_neighbors': 21, 'p': 1, 'weights': 'uniform'},\n",
              "  {'n_neighbors': 21, 'p': 1, 'weights': 'distance'},\n",
              "  {'n_neighbors': 21, 'p': 2, 'weights': 'uniform'},\n",
              "  {'n_neighbors': 21, 'p': 2, 'weights': 'distance'},\n",
              "  {'n_neighbors': 22, 'p': 1, 'weights': 'uniform'},\n",
              "  {'n_neighbors': 22, 'p': 1, 'weights': 'distance'},\n",
              "  {'n_neighbors': 22, 'p': 2, 'weights': 'uniform'},\n",
              "  {'n_neighbors': 22, 'p': 2, 'weights': 'distance'},\n",
              "  {'n_neighbors': 23, 'p': 1, 'weights': 'uniform'},\n",
              "  {'n_neighbors': 23, 'p': 1, 'weights': 'distance'},\n",
              "  {'n_neighbors': 23, 'p': 2, 'weights': 'uniform'},\n",
              "  {'n_neighbors': 23, 'p': 2, 'weights': 'distance'},\n",
              "  {'n_neighbors': 24, 'p': 1, 'weights': 'uniform'},\n",
              "  {'n_neighbors': 24, 'p': 1, 'weights': 'distance'},\n",
              "  {'n_neighbors': 24, 'p': 2, 'weights': 'uniform'},\n",
              "  {'n_neighbors': 24, 'p': 2, 'weights': 'distance'},\n",
              "  {'n_neighbors': 25, 'p': 1, 'weights': 'uniform'},\n",
              "  {'n_neighbors': 25, 'p': 1, 'weights': 'distance'},\n",
              "  {'n_neighbors': 25, 'p': 2, 'weights': 'uniform'},\n",
              "  {'n_neighbors': 25, 'p': 2, 'weights': 'distance'},\n",
              "  {'n_neighbors': 26, 'p': 1, 'weights': 'uniform'},\n",
              "  {'n_neighbors': 26, 'p': 1, 'weights': 'distance'},\n",
              "  {'n_neighbors': 26, 'p': 2, 'weights': 'uniform'},\n",
              "  {'n_neighbors': 26, 'p': 2, 'weights': 'distance'},\n",
              "  {'n_neighbors': 27, 'p': 1, 'weights': 'uniform'},\n",
              "  {'n_neighbors': 27, 'p': 1, 'weights': 'distance'},\n",
              "  {'n_neighbors': 27, 'p': 2, 'weights': 'uniform'},\n",
              "  {'n_neighbors': 27, 'p': 2, 'weights': 'distance'},\n",
              "  {'n_neighbors': 28, 'p': 1, 'weights': 'uniform'},\n",
              "  {'n_neighbors': 28, 'p': 1, 'weights': 'distance'},\n",
              "  {'n_neighbors': 28, 'p': 2, 'weights': 'uniform'},\n",
              "  {'n_neighbors': 28, 'p': 2, 'weights': 'distance'},\n",
              "  {'n_neighbors': 29, 'p': 1, 'weights': 'uniform'},\n",
              "  {'n_neighbors': 29, 'p': 1, 'weights': 'distance'},\n",
              "  {'n_neighbors': 29, 'p': 2, 'weights': 'uniform'},\n",
              "  {'n_neighbors': 29, 'p': 2, 'weights': 'distance'},\n",
              "  {'n_neighbors': 30, 'p': 1, 'weights': 'uniform'},\n",
              "  {'n_neighbors': 30, 'p': 1, 'weights': 'distance'},\n",
              "  {'n_neighbors': 30, 'p': 2, 'weights': 'uniform'},\n",
              "  {'n_neighbors': 30, 'p': 2, 'weights': 'distance'}],\n",
              " 'rank_test_score': array([  1,   1,  56,  56,  40,   1, 120,  56,  34,   6,  99,  56,  48,\n",
              "         18, 117,  75,  70,  45, 114,  66,  41,  29, 113,  75,  30,  37,\n",
              "        116,  75,  89,  27, 117,  89,  14,  12, 103,  69,  33,  18, 115,\n",
              "        109,  42,  34, 119,  65,  15,  18, 112,  71,  38,   5,  97,  79,\n",
              "         31,   7,  99,  93,  24,   4,  80,  86,  39,  26, 106,  60,  42,\n",
              "          7, 107,  60,  44,  16,  99,  82,  46,   9,  99,  60,  50,   9,\n",
              "         93,  86,  53,   9,  66,  82,  89,  27, 103,  71,  46,  21, 103,\n",
              "         82,  53,  36, 109,  82,  66,  24,  89,  98,  80,  31, 109,  86,\n",
              "         53,  21,  93,  93,  50,  17,  75,  71,  49,  13,  63, 107,  50,\n",
              "         21,  63,  71], dtype=int32),\n",
              " 'split0_test_score': array([0.83333333, 0.83333333, 0.80555556, 0.80555556, 0.66666667,\n",
              "        0.83333333, 0.61111111, 0.80555556, 0.77777778, 0.83333333,\n",
              "        0.63888889, 0.72222222, 0.66666667, 0.80555556, 0.63888889,\n",
              "        0.66666667, 0.75      , 0.75      , 0.72222222, 0.77777778,\n",
              "        0.75      , 0.77777778, 0.66666667, 0.75      , 0.75      ,\n",
              "        0.75      , 0.66666667, 0.75      , 0.63888889, 0.77777778,\n",
              "        0.69444444, 0.75      , 0.80555556, 0.80555556, 0.66666667,\n",
              "        0.77777778, 0.77777778, 0.80555556, 0.69444444, 0.75      ,\n",
              "        0.77777778, 0.75      , 0.69444444, 0.77777778, 0.72222222,\n",
              "        0.75      , 0.66666667, 0.75      , 0.75      , 0.77777778,\n",
              "        0.75      , 0.77777778, 0.75      , 0.77777778, 0.69444444,\n",
              "        0.77777778, 0.77777778, 0.80555556, 0.77777778, 0.77777778,\n",
              "        0.77777778, 0.77777778, 0.66666667, 0.77777778, 0.80555556,\n",
              "        0.80555556, 0.69444444, 0.75      , 0.75      , 0.77777778,\n",
              "        0.63888889, 0.75      , 0.77777778, 0.77777778, 0.72222222,\n",
              "        0.75      , 0.72222222, 0.77777778, 0.72222222, 0.77777778,\n",
              "        0.75      , 0.77777778, 0.77777778, 0.77777778, 0.69444444,\n",
              "        0.77777778, 0.75      , 0.77777778, 0.75      , 0.77777778,\n",
              "        0.75      , 0.77777778, 0.72222222, 0.77777778, 0.72222222,\n",
              "        0.77777778, 0.72222222, 0.80555556, 0.75      , 0.77777778,\n",
              "        0.72222222, 0.80555556, 0.72222222, 0.77777778, 0.72222222,\n",
              "        0.80555556, 0.72222222, 0.77777778, 0.72222222, 0.80555556,\n",
              "        0.72222222, 0.77777778, 0.75      , 0.80555556, 0.72222222,\n",
              "        0.75      , 0.72222222, 0.77777778, 0.72222222, 0.77777778]),\n",
              " 'split1_test_score': array([0.75      , 0.75      , 0.63888889, 0.63888889, 0.75      ,\n",
              "        0.75      , 0.61111111, 0.63888889, 0.69444444, 0.69444444,\n",
              "        0.69444444, 0.72222222, 0.66666667, 0.69444444, 0.69444444,\n",
              "        0.69444444, 0.66666667, 0.66666667, 0.66666667, 0.63888889,\n",
              "        0.63888889, 0.66666667, 0.63888889, 0.63888889, 0.69444444,\n",
              "        0.72222222, 0.61111111, 0.63888889, 0.66666667, 0.66666667,\n",
              "        0.63888889, 0.63888889, 0.69444444, 0.69444444, 0.69444444,\n",
              "        0.66666667, 0.75      , 0.69444444, 0.69444444, 0.66666667,\n",
              "        0.75      , 0.72222222, 0.66666667, 0.66666667, 0.83333333,\n",
              "        0.77777778, 0.66666667, 0.69444444, 0.77777778, 0.75      ,\n",
              "        0.66666667, 0.69444444, 0.80555556, 0.75      , 0.63888889,\n",
              "        0.66666667, 0.77777778, 0.77777778, 0.63888889, 0.63888889,\n",
              "        0.77777778, 0.72222222, 0.63888889, 0.63888889, 0.75      ,\n",
              "        0.75      , 0.63888889, 0.63888889, 0.75      , 0.75      ,\n",
              "        0.69444444, 0.63888889, 0.72222222, 0.77777778, 0.66666667,\n",
              "        0.63888889, 0.72222222, 0.77777778, 0.66666667, 0.63888889,\n",
              "        0.72222222, 0.77777778, 0.66666667, 0.61111111, 0.72222222,\n",
              "        0.75      , 0.66666667, 0.66666667, 0.75      , 0.80555556,\n",
              "        0.66666667, 0.61111111, 0.72222222, 0.75      , 0.66666667,\n",
              "        0.61111111, 0.72222222, 0.77777778, 0.63888889, 0.61111111,\n",
              "        0.72222222, 0.77777778, 0.66666667, 0.63888889, 0.75      ,\n",
              "        0.80555556, 0.69444444, 0.66666667, 0.72222222, 0.77777778,\n",
              "        0.72222222, 0.66666667, 0.72222222, 0.80555556, 0.72222222,\n",
              "        0.63888889, 0.72222222, 0.80555556, 0.72222222, 0.66666667]),\n",
              " 'split2_test_score': array([0.77777778, 0.77777778, 0.66666667, 0.66666667, 0.69444444,\n",
              "        0.77777778, 0.63888889, 0.66666667, 0.69444444, 0.72222222,\n",
              "        0.66666667, 0.66666667, 0.72222222, 0.69444444, 0.63888889,\n",
              "        0.69444444, 0.69444444, 0.75      , 0.63888889, 0.66666667,\n",
              "        0.77777778, 0.75      , 0.69444444, 0.66666667, 0.77777778,\n",
              "        0.75      , 0.61111111, 0.66666667, 0.72222222, 0.72222222,\n",
              "        0.63888889, 0.63888889, 0.77777778, 0.72222222, 0.69444444,\n",
              "        0.66666667, 0.75      , 0.69444444, 0.66666667, 0.61111111,\n",
              "        0.69444444, 0.69444444, 0.66666667, 0.63888889, 0.72222222,\n",
              "        0.66666667, 0.66666667, 0.61111111, 0.72222222, 0.69444444,\n",
              "        0.69444444, 0.61111111, 0.66666667, 0.66666667, 0.66666667,\n",
              "        0.61111111, 0.69444444, 0.66666667, 0.66666667, 0.61111111,\n",
              "        0.63888889, 0.63888889, 0.66666667, 0.61111111, 0.66666667,\n",
              "        0.63888889, 0.66666667, 0.63888889, 0.63888889, 0.63888889,\n",
              "        0.66666667, 0.61111111, 0.66666667, 0.66666667, 0.61111111,\n",
              "        0.63888889, 0.63888889, 0.66666667, 0.66666667, 0.61111111,\n",
              "        0.63888889, 0.66666667, 0.63888889, 0.61111111, 0.61111111,\n",
              "        0.63888889, 0.63888889, 0.61111111, 0.66666667, 0.63888889,\n",
              "        0.63888889, 0.61111111, 0.66666667, 0.66666667, 0.63888889,\n",
              "        0.61111111, 0.63888889, 0.66666667, 0.63888889, 0.61111111,\n",
              "        0.63888889, 0.63888889, 0.63888889, 0.61111111, 0.63888889,\n",
              "        0.61111111, 0.63888889, 0.61111111, 0.63888889, 0.61111111,\n",
              "        0.61111111, 0.61111111, 0.63888889, 0.63888889, 0.61111111,\n",
              "        0.61111111, 0.63888889, 0.63888889, 0.61111111, 0.61111111]),\n",
              " 'split3_test_score': array([0.77142857, 0.77142857, 0.68571429, 0.68571429, 0.74285714,\n",
              "        0.77142857, 0.65714286, 0.68571429, 0.77142857, 0.77142857,\n",
              "        0.65714286, 0.65714286, 0.71428571, 0.77142857, 0.65714286,\n",
              "        0.65714286, 0.68571429, 0.71428571, 0.65714286, 0.65714286,\n",
              "        0.71428571, 0.74285714, 0.68571429, 0.65714286, 0.77142857,\n",
              "        0.71428571, 0.74285714, 0.65714286, 0.74285714, 0.8       ,\n",
              "        0.65714286, 0.65714286, 0.77142857, 0.8       , 0.68571429,\n",
              "        0.62857143, 0.74285714, 0.8       , 0.65714286, 0.62857143,\n",
              "        0.74285714, 0.77142857, 0.62857143, 0.68571429, 0.8       ,\n",
              "        0.82857143, 0.71428571, 0.68571429, 0.74285714, 0.85714286,\n",
              "        0.68571429, 0.65714286, 0.8       , 0.85714286, 0.74285714,\n",
              "        0.65714286, 0.8       , 0.85714286, 0.68571429, 0.68571429,\n",
              "        0.77142857, 0.85714286, 0.71428571, 0.74285714, 0.71428571,\n",
              "        0.85714286, 0.71428571, 0.74285714, 0.77142857, 0.85714286,\n",
              "        0.71428571, 0.71428571, 0.71428571, 0.82857143, 0.71428571,\n",
              "        0.74285714, 0.74285714, 0.82857143, 0.71428571, 0.68571429,\n",
              "        0.71428571, 0.82857143, 0.71428571, 0.71428571, 0.71428571,\n",
              "        0.82857143, 0.71428571, 0.68571429, 0.71428571, 0.8       ,\n",
              "        0.71428571, 0.71428571, 0.71428571, 0.8       , 0.71428571,\n",
              "        0.71428571, 0.71428571, 0.8       , 0.71428571, 0.68571429,\n",
              "        0.71428571, 0.8       , 0.71428571, 0.68571429, 0.71428571,\n",
              "        0.8       , 0.68571429, 0.65714286, 0.74285714, 0.82857143,\n",
              "        0.74285714, 0.68571429, 0.74285714, 0.8       , 0.74285714,\n",
              "        0.65714286, 0.74285714, 0.8       , 0.74285714, 0.68571429]),\n",
              " 'split4_test_score': array([0.91428571, 0.91428571, 0.82857143, 0.82857143, 0.88571429,\n",
              "        0.91428571, 0.8       , 0.82857143, 0.85714286, 0.88571429,\n",
              "        0.85714286, 0.85714286, 0.88571429, 0.88571429, 0.77142857,\n",
              "        0.85714286, 0.8       , 0.82857143, 0.77142857, 0.85714286,\n",
              "        0.85714286, 0.88571429, 0.77142857, 0.85714286, 0.82857143,\n",
              "        0.85714286, 0.77142857, 0.85714286, 0.77142857, 0.85714286,\n",
              "        0.77142857, 0.85714286, 0.82857143, 0.85714286, 0.77142857,\n",
              "        0.85714286, 0.8       , 0.85714286, 0.74285714, 0.82857143,\n",
              "        0.77142857, 0.85714286, 0.74285714, 0.82857143, 0.8       ,\n",
              "        0.82857143, 0.74285714, 0.82857143, 0.8       , 0.82857143,\n",
              "        0.74285714, 0.82857143, 0.8       , 0.82857143, 0.77142857,\n",
              "        0.82857143, 0.8       , 0.82857143, 0.8       , 0.82857143,\n",
              "        0.8       , 0.82857143, 0.8       , 0.82857143, 0.8       ,\n",
              "        0.82857143, 0.77142857, 0.82857143, 0.8       , 0.82857143,\n",
              "        0.8       , 0.82857143, 0.8       , 0.82857143, 0.8       ,\n",
              "        0.82857143, 0.8       , 0.82857143, 0.77142857, 0.82857143,\n",
              "        0.8       , 0.82857143, 0.8       , 0.82857143, 0.8       ,\n",
              "        0.82857143, 0.74285714, 0.82857143, 0.8       , 0.82857143,\n",
              "        0.74285714, 0.82857143, 0.8       , 0.8       , 0.74285714,\n",
              "        0.82857143, 0.8       , 0.8       , 0.8       , 0.82857143,\n",
              "        0.77142857, 0.8       , 0.74285714, 0.82857143, 0.8       ,\n",
              "        0.82857143, 0.8       , 0.82857143, 0.8       , 0.82857143,\n",
              "        0.77142857, 0.82857143, 0.8       , 0.82857143, 0.8       ,\n",
              "        0.82857143, 0.8       , 0.82857143, 0.8       , 0.82857143]),\n",
              " 'std_fit_time': array([2.27823074e-04, 1.05495671e-04, 1.32733719e-04, 2.56698117e-04,\n",
              "        1.15591012e-04, 3.49651114e-04, 2.34074616e-04, 2.48342057e-04,\n",
              "        1.53265477e-04, 4.77028198e-04, 8.81408174e-05, 2.18917596e-05,\n",
              "        3.41340142e-05, 1.77754762e-05, 3.67845177e-05, 1.24550377e-05,\n",
              "        3.85535744e-05, 6.23980367e-05, 1.02967505e-04, 4.01559743e-05,\n",
              "        3.49637087e-05, 3.46150981e-04, 3.26490907e-04, 1.31394173e-04,\n",
              "        3.63634529e-05, 1.19514076e-05, 2.63994699e-04, 2.70652872e-05,\n",
              "        3.76554702e-04, 6.51824647e-04, 7.17722137e-05, 5.54925376e-05,\n",
              "        5.85362246e-04, 5.29597167e-05, 1.77325706e-04, 6.34859209e-05,\n",
              "        1.05939717e-04, 5.31594523e-05, 5.29189573e-05, 3.90690682e-04,\n",
              "        1.93648590e-04, 8.56916838e-05, 8.91501107e-05, 3.04536597e-05,\n",
              "        3.58933925e-05, 2.33530481e-05, 6.29425049e-06, 1.40700094e-05,\n",
              "        3.86662897e-05, 6.72255842e-06, 5.40631989e-05, 2.87026660e-05,\n",
              "        3.62077108e-04, 2.23823908e-04, 1.65357983e-04, 2.77611817e-04,\n",
              "        9.54089789e-05, 1.67041671e-04, 2.49422784e-04, 6.20217236e-05,\n",
              "        7.55228474e-05, 1.67827714e-05, 4.40776430e-04, 1.44808199e-04,\n",
              "        1.24852378e-04, 1.36387648e-04, 3.28725187e-05, 2.29688059e-05,\n",
              "        6.88485241e-04, 4.92095023e-05, 4.67926608e-04, 5.20043720e-04,\n",
              "        4.07322216e-05, 6.90432543e-05, 1.47881849e-04, 5.84086787e-05,\n",
              "        3.05339650e-05, 5.07618631e-05, 2.57312748e-05, 2.86335056e-05,\n",
              "        6.00160894e-05, 3.39957138e-05, 2.34497248e-05, 4.25170857e-05,\n",
              "        1.47439098e-05, 3.43606090e-05, 5.21393469e-05, 1.44840808e-05,\n",
              "        3.86344047e-05, 1.81283429e-05, 1.89164372e-05, 5.16339127e-05,\n",
              "        1.51613222e-05, 3.24688642e-05, 1.54941996e-05, 1.60354884e-05,\n",
              "        6.08370965e-05, 8.38172036e-05, 1.29471606e-05, 2.75967214e-05,\n",
              "        4.23359473e-04, 3.34259154e-04, 1.02688894e-04, 2.92918509e-04,\n",
              "        9.85381420e-06, 3.25271454e-05, 1.00412441e-05, 1.03100861e-04,\n",
              "        1.74956329e-04, 1.04545935e-05, 5.40044133e-05, 4.17477400e-05,\n",
              "        3.58971298e-05, 2.40003089e-05, 3.39793818e-04, 3.96212944e-05,\n",
              "        7.34764555e-04, 1.79123077e-04, 2.04398015e-05, 4.12528909e-05]),\n",
              " 'std_score_time': array([1.59205609e-04, 1.80314595e-04, 2.19975406e-04, 1.50047327e-04,\n",
              "        2.83911519e-04, 1.17385300e-04, 2.71199959e-04, 1.03109903e-04,\n",
              "        5.84830703e-04, 4.76928783e-04, 6.04518570e-05, 2.78060261e-05,\n",
              "        8.29022781e-05, 1.57536663e-04, 3.24816768e-05, 3.97315531e-05,\n",
              "        3.61959923e-05, 3.34075394e-05, 1.75077216e-04, 3.30904375e-05,\n",
              "        4.29708334e-05, 1.97879688e-04, 7.39081361e-04, 4.86747748e-05,\n",
              "        2.78182074e-05, 2.14380599e-05, 4.45139734e-04, 8.12857578e-05,\n",
              "        2.90367911e-04, 5.78591119e-04, 5.99609028e-05, 1.21635112e-04,\n",
              "        6.20058942e-04, 7.91400872e-05, 3.74569188e-04, 6.72376578e-05,\n",
              "        1.29991039e-04, 4.20977272e-05, 1.36714876e-04, 7.50702837e-05,\n",
              "        8.30332537e-04, 1.20800989e-04, 3.61461394e-04, 2.70568849e-05,\n",
              "        1.23201601e-04, 5.64884813e-05, 2.91044933e-05, 6.33446174e-05,\n",
              "        3.50510667e-05, 3.54463566e-05, 9.80199063e-05, 4.25477711e-04,\n",
              "        2.20421070e-04, 7.54432638e-05, 1.49705864e-04, 1.48141034e-04,\n",
              "        1.73866467e-04, 2.99188624e-05, 3.64504442e-04, 1.86729249e-04,\n",
              "        1.25537197e-04, 3.58543495e-05, 7.84425407e-04, 1.14126031e-04,\n",
              "        1.42479342e-04, 3.62360476e-05, 1.51580630e-04, 3.06480569e-05,\n",
              "        7.65892474e-04, 5.74717171e-05, 1.37974993e-03, 7.60924525e-04,\n",
              "        1.41361108e-05, 9.67487671e-05, 4.34663683e-05, 3.14714692e-05,\n",
              "        2.17815091e-04, 2.66258798e-05, 6.39785051e-05, 2.08930868e-05,\n",
              "        6.57711433e-05, 2.94216641e-05, 3.94794779e-04, 6.86422616e-05,\n",
              "        2.63236570e-05, 1.44033445e-04, 4.32692348e-05, 2.12457652e-04,\n",
              "        1.25162842e-04, 1.58675759e-05, 1.98855388e-05, 1.38062137e-04,\n",
              "        1.21433489e-05, 3.70093221e-05, 1.08327958e-04, 3.25692695e-05,\n",
              "        3.39046309e-05, 7.00620651e-05, 5.48134632e-05, 7.93838638e-05,\n",
              "        9.96304293e-04, 6.12603340e-04, 1.73563093e-04, 4.61040841e-04,\n",
              "        4.45480761e-05, 1.13682459e-04, 1.38487631e-04, 6.33496784e-05,\n",
              "        6.54635770e-05, 4.13071455e-05, 4.80467803e-05, 8.85165187e-05,\n",
              "        1.10901744e-04, 7.90580190e-05, 4.86749485e-04, 1.66969323e-04,\n",
              "        7.35759945e-04, 3.75856587e-05, 9.28940223e-05, 6.52403853e-05]),\n",
              " 'std_test_score': array([0.05923507, 0.05923507, 0.07691226, 0.07691226, 0.07547047,\n",
              "        0.05923507, 0.07038103, 0.07691226, 0.06078474, 0.07034379,\n",
              "        0.07920396, 0.07139258, 0.08070988, 0.07221193, 0.04994076,\n",
              "        0.07311346, 0.04893062, 0.05303915, 0.04877951, 0.08428497,\n",
              "        0.07189442, 0.07087901, 0.04430648, 0.0811181 , 0.04346831,\n",
              "        0.051275  , 0.0662983 , 0.0811181 , 0.04883526, 0.06538758,\n",
              "        0.04994076, 0.08502456, 0.04541292, 0.05929076, 0.03590741,\n",
              "        0.08507937, 0.02156278, 0.06507665, 0.02983705, 0.08136279,\n",
              "        0.02943407, 0.05547523, 0.03784175, 0.07172707, 0.04521553,\n",
              "        0.05999832, 0.03164428, 0.07237573, 0.02730159, 0.05748443,\n",
              "        0.03276538, 0.07924054, 0.05289169, 0.06630362, 0.04852732,\n",
              "        0.08134917, 0.0390631 , 0.06566212, 0.06347539, 0.08254212,\n",
              "        0.05796151, 0.07801131, 0.05678814, 0.0825641 , 0.0524785 ,\n",
              "        0.07706737, 0.04503743, 0.0726197 , 0.05475385, 0.07572843,\n",
              "        0.05484489, 0.07810653, 0.04755975, 0.05913971, 0.06272071,\n",
              "        0.0726197 , 0.05171876, 0.05913971, 0.03919574, 0.08254212,\n",
              "        0.0525121 , 0.05913971, 0.06195684, 0.08742906, 0.06045848,\n",
              "        0.0698207 , 0.04325331, 0.07851224, 0.04419602, 0.06759482,\n",
              "        0.04325331, 0.08742906, 0.04279714, 0.04964068, 0.03830103,\n",
              "        0.08742906, 0.0510302 , 0.0525404 , 0.06295927, 0.08780174,\n",
              "        0.04260242, 0.06349881, 0.03830103, 0.08254212, 0.0525121 ,\n",
              "        0.08013059, 0.0531464 , 0.08134917, 0.05171876, 0.0817693 ,\n",
              "        0.05450157, 0.07851224, 0.05258115, 0.0691171 , 0.06130026,\n",
              "        0.08057584, 0.05171876, 0.06759482, 0.06130026, 0.07851224])}"
            ]
          },
          "metadata": {
            "tags": []
          },
          "execution_count": 122
        }
      ]
    },
    {
      "cell_type": "code",
      "metadata": {
        "colab": {
          "base_uri": "https://localhost:8080/"
        },
        "id": "6cllbCTDkst4",
        "outputId": "383acc62-c04b-4d7a-cd9d-749830c22cf2"
      },
      "source": [
        "# obtendo os scores\n",
        "scores = grid.cv_results_.get('mean_test_score')\n",
        "print(scores)\n",
        "\n",
        "# rank dos melhores modelos\n",
        "k_rank = grid.cv_results_.get('rank_test_score')\n",
        "print(k_rank)\n",
        "\n",
        "print(f\"Melhores parametros {grid.best_params_} com o valor de acurácia {grid.best_score_} \")"
      ],
      "execution_count": null,
      "outputs": [
        {
          "output_type": "stream",
          "text": [
            "[0.80936508 0.80936508 0.72507937 0.72507937 0.74793651 0.80936508\n",
            " 0.66365079 0.72507937 0.75904762 0.78142857 0.70285714 0.72507937\n",
            " 0.73111111 0.77031746 0.68015873 0.71396825 0.71936508 0.74190476\n",
            " 0.69126984 0.71952381 0.74761905 0.76460317 0.69142857 0.71396825\n",
            " 0.76444444 0.75873016 0.68063492 0.71396825 0.7084127  0.7647619\n",
            " 0.68015873 0.7084127  0.77555556 0.77587302 0.70253968 0.71936508\n",
            " 0.76412698 0.77031746 0.69111111 0.69698413 0.74730159 0.75904762\n",
            " 0.67984127 0.71952381 0.77555556 0.77031746 0.69142857 0.71396825\n",
            " 0.75857143 0.7815873  0.70793651 0.71380952 0.76444444 0.77603175\n",
            " 0.70285714 0.70825397 0.77       0.78714286 0.71380952 0.7084127\n",
            " 0.7531746  0.76492063 0.69730159 0.71984127 0.74730159 0.77603175\n",
            " 0.69714286 0.71984127 0.74206349 0.77047619 0.70285714 0.70857143\n",
            " 0.73619048 0.77587302 0.70285714 0.71984127 0.7252381  0.77587302\n",
            " 0.70825397 0.7084127  0.72507937 0.77587302 0.71952381 0.70857143\n",
            " 0.7084127  0.7647619  0.70253968 0.71396825 0.73619048 0.77015873\n",
            " 0.70253968 0.70857143 0.72507937 0.75888889 0.69698413 0.70857143\n",
            " 0.71952381 0.77       0.7084127  0.70285714 0.71380952 0.76444444\n",
            " 0.69698413 0.7084127  0.72507937 0.77015873 0.70825397 0.70825397\n",
            " 0.7252381  0.77031746 0.71396825 0.71396825 0.73079365 0.77571429\n",
            " 0.71968254 0.69714286 0.7252381  0.77015873 0.71968254 0.71396825]\n",
            "[  1   1  56  56  40   1 120  56  34   6  99  56  48  18 117  75  70  45\n",
            " 114  66  41  29 113  75  30  37 116  75  89  27 117  89  14  12 103  69\n",
            "  33  18 115 109  42  34 119  65  15  18 112  71  38   5  97  79  31   7\n",
            "  99  93  24   4  80  86  39  26 106  60  42   7 107  60  44  16  99  82\n",
            "  46   9  99  60  50   9  93  86  53   9  66  82  89  27 103  71  46  21\n",
            " 103  82  53  36 109  82  66  24  89  98  80  31 109  86  53  21  93  93\n",
            "  50  17  75  71  49  13  63 107  50  21  63  71]\n",
            "Melhores parametros {'n_neighbors': 1, 'p': 1, 'weights': 'uniform'} com o valor de acurácia 0.8093650793650793 \n"
          ],
          "name": "stdout"
        }
      ]
    },
    {
      "cell_type": "code",
      "metadata": {
        "colab": {
          "base_uri": "https://localhost:8080/",
          "height": 501
        },
        "id": "-_1_-XKTk6VO",
        "outputId": "5d1b16e9-0b3a-4228-e9c6-861f1d9bc445"
      },
      "source": [
        "plt.plot(scores, color='red', linestyle='dashed', marker='o')"
      ],
      "execution_count": null,
      "outputs": [
        {
          "output_type": "execute_result",
          "data": {
            "text/plain": [
              "[<matplotlib.lines.Line2D at 0x7f1827217f50>]"
            ]
          },
          "metadata": {
            "tags": []
          },
          "execution_count": 128
        },
        {
          "output_type": "display_data",
          "data": {
            "image/png": "[encoded data removed]",
            "text/plain": [
              "<Figure size 720x576 with 1 Axes>"
            ]
          },
          "metadata": {
            "tags": [],
            "needs_background": "light"
          }
        }
      ]
    },
    {
      "cell_type": "markdown",
      "metadata": {
        "id": "_jF_Q-2RmV0y"
      },
      "source": [
        "### Analisando a fronteira"
      ]
    },
    {
      "cell_type": "code",
      "metadata": {
        "colab": {
          "base_uri": "https://localhost:8080/",
          "height": 774
        },
        "id": "nokfUE93lm_I",
        "outputId": "da4b8ddf-28aa-49ed-def9-c929145dfc84"
      },
      "source": [
        "def plot_fronteiras(X, y, n_vizinhos):\n",
        "  knn = KNeighborsClassifier(n_neighbors=n_vizinhos)\n",
        "  knn.fit(X, y)\n",
        "  plt.figure(figsize=(8,5))\n",
        "  plot_decision_regions(X, y, clf=knn, legend=2)\n",
        "  plt.xlabel('alcohol')\n",
        "  plt.ylabel('malic_acid')\n",
        "  plt.title(f'Fronteiras de Complexidade - KNN {n_vizinhos} vizinhos')\n",
        "  plt.show()\n",
        "\n",
        "plot_fronteiras(wine.data[:,[0,2]], wine.target, 1)\n",
        "plot_fronteiras(wine.data[:,[0,2]], wine.target, 2)"
      ],
      "execution_count": null,
      "outputs": [
        {
          "output_type": "stream",
          "text": [
            "/usr/local/lib/python3.7/dist-packages/mlxtend/plotting/decision_regions.py:244: MatplotlibDeprecationWarning: Passing unsupported keyword arguments to axis() will raise a TypeError in 3.3.\n",
            "  ax.axis(xmin=xx.min(), xmax=xx.max(), y_min=yy.min(), y_max=yy.max())\n"
          ],
          "name": "stderr"
        },
        {
          "output_type": "display_data",
          "data": {
            "image/png": "[encoded data removed]",
            "text/plain": [
              "<Figure size 576x360 with 1 Axes>"
            ]
          },
          "metadata": {
            "tags": [],
            "needs_background": "light"
          }
        },
        {
          "output_type": "stream",
          "text": [
            "/usr/local/lib/python3.7/dist-packages/mlxtend/plotting/decision_regions.py:244: MatplotlibDeprecationWarning: Passing unsupported keyword arguments to axis() will raise a TypeError in 3.3.\n",
            "  ax.axis(xmin=xx.min(), xmax=xx.max(), y_min=yy.min(), y_max=yy.max())\n"
          ],
          "name": "stderr"
        },
        {
          "output_type": "display_data",
          "data": {
            "image/png": "[encoded data removed]",
            "text/plain": [
              "<Figure size 576x360 with 1 Axes>"
            ]
          },
          "metadata": {
            "tags": [],
            "needs_background": "light"
          }
        }
      ]
    },
    {
      "cell_type": "markdown",
      "metadata": {
        "id": "kgl0psZVL4Th"
      },
      "source": [
        "## Exemplo 03 - Iris"
      ]
    },
    {
      "cell_type": "markdown",
      "metadata": {
        "id": "QdyS3OqfL-4C"
      },
      "source": [
        "### imports"
      ]
    },
    {
      "cell_type": "code",
      "metadata": {
        "id": "dqq5pWSiL8cT"
      },
      "source": [
        "from sklearn import datasets\n",
        "import numpy as np\n",
        "import matplotlib.pyplot as plt\n",
        "import pandas as pd\n",
        "from sklearn.model_selection import train_test_split\n",
        "from sklearn.preprocessing import StandardScaler\n",
        "from sklearn.neighbors import KNeighborsClassifier\n",
        "from sklearn.metrics import classification_report, confusion_matrix\n",
        "from sklearn.model_selection import GridSearchCV"
      ],
      "execution_count": 52,
      "outputs": []
    },
    {
      "cell_type": "markdown",
      "metadata": {
        "id": "XZhb9jJuMYLK"
      },
      "source": [
        "### dataset"
      ]
    },
    {
      "cell_type": "code",
      "metadata": {
        "colab": {
          "base_uri": "https://localhost:8080/",
          "height": 197
        },
        "id": "Nuw87x06MZbZ",
        "outputId": "846a20b4-a4b7-488e-820a-65c1970a8f2c"
      },
      "source": [
        "iris = datasets.load_iris()\n",
        "df_iris = pd.DataFrame(iris.data, columns=iris.feature_names)\n",
        "df_iris['class'] = iris.target\n",
        "df_iris.head()"
      ],
      "execution_count": 4,
      "outputs": [
        {
          "output_type": "execute_result",
          "data": {
            "text/html": [
              "<div>\n",
              "<style scoped>\n",
              "    .dataframe tbody tr th:only-of-type {\n",
              "        vertical-align: middle;\n",
              "    }\n",
              "\n",
              "    .dataframe tbody tr th {\n",
              "        vertical-align: top;\n",
              "    }\n",
              "\n",
              "    .dataframe thead th {\n",
              "        text-align: right;\n",
              "    }\n",
              "</style>\n",
              "<table border=\"1\" class=\"dataframe\">\n",
              "  <thead>\n",
              "    <tr style=\"text-align: right;\">\n",
              "      <th></th>\n",
              "      <th>sepal length (cm)</th>\n",
              "      <th>sepal width (cm)</th>\n",
              "      <th>petal length (cm)</th>\n",
              "      <th>petal width (cm)</th>\n",
              "      <th>class</th>\n",
              "    </tr>\n",
              "  </thead>\n",
              "  <tbody>\n",
              "    <tr>\n",
              "      <th>0</th>\n",
              "      <td>5.1</td>\n",
              "      <td>3.5</td>\n",
              "      <td>1.4</td>\n",
              "      <td>0.2</td>\n",
              "      <td>0</td>\n",
              "    </tr>\n",
              "    <tr>\n",
              "      <th>1</th>\n",
              "      <td>4.9</td>\n",
              "      <td>3.0</td>\n",
              "      <td>1.4</td>\n",
              "      <td>0.2</td>\n",
              "      <td>0</td>\n",
              "    </tr>\n",
              "    <tr>\n",
              "      <th>2</th>\n",
              "      <td>4.7</td>\n",
              "      <td>3.2</td>\n",
              "      <td>1.3</td>\n",
              "      <td>0.2</td>\n",
              "      <td>0</td>\n",
              "    </tr>\n",
              "    <tr>\n",
              "      <th>3</th>\n",
              "      <td>4.6</td>\n",
              "      <td>3.1</td>\n",
              "      <td>1.5</td>\n",
              "      <td>0.2</td>\n",
              "      <td>0</td>\n",
              "    </tr>\n",
              "    <tr>\n",
              "      <th>4</th>\n",
              "      <td>5.0</td>\n",
              "      <td>3.6</td>\n",
              "      <td>1.4</td>\n",
              "      <td>0.2</td>\n",
              "      <td>0</td>\n",
              "    </tr>\n",
              "  </tbody>\n",
              "</table>\n",
              "</div>"
            ],
            "text/plain": [
              "   sepal length (cm)  sepal width (cm)  ...  petal width (cm)  class\n",
              "0                5.1               3.5  ...               0.2      0\n",
              "1                4.9               3.0  ...               0.2      0\n",
              "2                4.7               3.2  ...               0.2      0\n",
              "3                4.6               3.1  ...               0.2      0\n",
              "4                5.0               3.6  ...               0.2      0\n",
              "\n",
              "[5 rows x 5 columns]"
            ]
          },
          "metadata": {
            "tags": []
          },
          "execution_count": 4
        }
      ]
    },
    {
      "cell_type": "markdown",
      "metadata": {
        "id": "Cbuh7DebNI9s"
      },
      "source": [
        "### Analisando os dados"
      ]
    },
    {
      "cell_type": "code",
      "metadata": {
        "colab": {
          "base_uri": "https://localhost:8080/"
        },
        "id": "_-Nx7kYJNKzn",
        "outputId": "9fc373f9-682c-4455-9142-384749e1bc5a"
      },
      "source": [
        "df_iris.info()"
      ],
      "execution_count": 6,
      "outputs": [
        {
          "output_type": "stream",
          "text": [
            "<class 'pandas.core.frame.DataFrame'>\n",
            "RangeIndex: 150 entries, 0 to 149\n",
            "Data columns (total 5 columns):\n",
            " #   Column             Non-Null Count  Dtype  \n",
            "---  ------             --------------  -----  \n",
            " 0   sepal length (cm)  150 non-null    float64\n",
            " 1   sepal width (cm)   150 non-null    float64\n",
            " 2   petal length (cm)  150 non-null    float64\n",
            " 3   petal width (cm)   150 non-null    float64\n",
            " 4   class              150 non-null    int64  \n",
            "dtypes: float64(4), int64(1)\n",
            "memory usage: 6.0 KB\n"
          ],
          "name": "stdout"
        }
      ]
    },
    {
      "cell_type": "markdown",
      "metadata": {
        "id": "MUFbE_EwNO9o"
      },
      "source": [
        "Podemos verificar que o conjunto de dados contém 5 colunas, sendo 4 de features e 1 de classificação.\n",
        "\n",
        "Todas as colunas são numéricas.\n",
        "\n",
        "Não há dados faltantes ou nulos."
      ]
    },
    {
      "cell_type": "code",
      "metadata": {
        "colab": {
          "base_uri": "https://localhost:8080/",
          "height": 287
        },
        "id": "MTZsXMomOnRw",
        "outputId": "ccee2d0e-b1f5-4961-cfec-4387cef97e17"
      },
      "source": [
        "df_iris.describe()"
      ],
      "execution_count": 7,
      "outputs": [
        {
          "output_type": "execute_result",
          "data": {
            "text/html": [
              "<div>\n",
              "<style scoped>\n",
              "    .dataframe tbody tr th:only-of-type {\n",
              "        vertical-align: middle;\n",
              "    }\n",
              "\n",
              "    .dataframe tbody tr th {\n",
              "        vertical-align: top;\n",
              "    }\n",
              "\n",
              "    .dataframe thead th {\n",
              "        text-align: right;\n",
              "    }\n",
              "</style>\n",
              "<table border=\"1\" class=\"dataframe\">\n",
              "  <thead>\n",
              "    <tr style=\"text-align: right;\">\n",
              "      <th></th>\n",
              "      <th>sepal length (cm)</th>\n",
              "      <th>sepal width (cm)</th>\n",
              "      <th>petal length (cm)</th>\n",
              "      <th>petal width (cm)</th>\n",
              "      <th>class</th>\n",
              "    </tr>\n",
              "  </thead>\n",
              "  <tbody>\n",
              "    <tr>\n",
              "      <th>count</th>\n",
              "      <td>150.000000</td>\n",
              "      <td>150.000000</td>\n",
              "      <td>150.000000</td>\n",
              "      <td>150.000000</td>\n",
              "      <td>150.000000</td>\n",
              "    </tr>\n",
              "    <tr>\n",
              "      <th>mean</th>\n",
              "      <td>5.843333</td>\n",
              "      <td>3.057333</td>\n",
              "      <td>3.758000</td>\n",
              "      <td>1.199333</td>\n",
              "      <td>1.000000</td>\n",
              "    </tr>\n",
              "    <tr>\n",
              "      <th>std</th>\n",
              "      <td>0.828066</td>\n",
              "      <td>0.435866</td>\n",
              "      <td>1.765298</td>\n",
              "      <td>0.762238</td>\n",
              "      <td>0.819232</td>\n",
              "    </tr>\n",
              "    <tr>\n",
              "      <th>min</th>\n",
              "      <td>4.300000</td>\n",
              "      <td>2.000000</td>\n",
              "      <td>1.000000</td>\n",
              "      <td>0.100000</td>\n",
              "      <td>0.000000</td>\n",
              "    </tr>\n",
              "    <tr>\n",
              "      <th>25%</th>\n",
              "      <td>5.100000</td>\n",
              "      <td>2.800000</td>\n",
              "      <td>1.600000</td>\n",
              "      <td>0.300000</td>\n",
              "      <td>0.000000</td>\n",
              "    </tr>\n",
              "    <tr>\n",
              "      <th>50%</th>\n",
              "      <td>5.800000</td>\n",
              "      <td>3.000000</td>\n",
              "      <td>4.350000</td>\n",
              "      <td>1.300000</td>\n",
              "      <td>1.000000</td>\n",
              "    </tr>\n",
              "    <tr>\n",
              "      <th>75%</th>\n",
              "      <td>6.400000</td>\n",
              "      <td>3.300000</td>\n",
              "      <td>5.100000</td>\n",
              "      <td>1.800000</td>\n",
              "      <td>2.000000</td>\n",
              "    </tr>\n",
              "    <tr>\n",
              "      <th>max</th>\n",
              "      <td>7.900000</td>\n",
              "      <td>4.400000</td>\n",
              "      <td>6.900000</td>\n",
              "      <td>2.500000</td>\n",
              "      <td>2.000000</td>\n",
              "    </tr>\n",
              "  </tbody>\n",
              "</table>\n",
              "</div>"
            ],
            "text/plain": [
              "       sepal length (cm)  sepal width (cm)  ...  petal width (cm)       class\n",
              "count         150.000000        150.000000  ...        150.000000  150.000000\n",
              "mean            5.843333          3.057333  ...          1.199333    1.000000\n",
              "std             0.828066          0.435866  ...          0.762238    0.819232\n",
              "min             4.300000          2.000000  ...          0.100000    0.000000\n",
              "25%             5.100000          2.800000  ...          0.300000    0.000000\n",
              "50%             5.800000          3.000000  ...          1.300000    1.000000\n",
              "75%             6.400000          3.300000  ...          1.800000    2.000000\n",
              "max             7.900000          4.400000  ...          2.500000    2.000000\n",
              "\n",
              "[8 rows x 5 columns]"
            ]
          },
          "metadata": {
            "tags": []
          },
          "execution_count": 7
        }
      ]
    },
    {
      "cell_type": "code",
      "metadata": {
        "colab": {
          "base_uri": "https://localhost:8080/"
        },
        "id": "CIYqVxWcOsHn",
        "outputId": "b41f51ce-39ca-4a83-c5f0-a9781cfbf518"
      },
      "source": [
        "df_iris['class'].value_counts()"
      ],
      "execution_count": 9,
      "outputs": [
        {
          "output_type": "execute_result",
          "data": {
            "text/plain": [
              "2    50\n",
              "1    50\n",
              "0    50\n",
              "Name: class, dtype: int64"
            ]
          },
          "metadata": {
            "tags": []
          },
          "execution_count": 9
        }
      ]
    },
    {
      "cell_type": "markdown",
      "metadata": {
        "id": "E99JXcM9OxD1"
      },
      "source": [
        "Há 3 classe diferentes, e são totamente balanceadas."
      ]
    },
    {
      "cell_type": "markdown",
      "metadata": {
        "id": "BMdc_g5DPx0j"
      },
      "source": [
        "### Dados de treino e validação"
      ]
    },
    {
      "cell_type": "code",
      "metadata": {
        "id": "ud7raMeGO24j"
      },
      "source": [
        "X = df_iris.iloc[:, :-1].values\n",
        "print(X)\n",
        "y = df_iris.iloc[:, 4].values\n",
        "print(y)"
      ],
      "execution_count": null,
      "outputs": []
    },
    {
      "cell_type": "code",
      "metadata": {
        "colab": {
          "base_uri": "https://localhost:8080/"
        },
        "id": "RwFEOYbSQjDi",
        "outputId": "cd96b0d1-744c-45ae-adf6-d87bdc097ee4"
      },
      "source": [
        "X_train, X_test, y_train, y_test = train_test_split(X, y, test_size=0.2)\n",
        "\n",
        "print(f'Tamanhos do X de treino {X_train.shape}')\n",
        "print(f'Tamanhos do y de treino {y_train.shape}')\n",
        "\n",
        "print(f'Tamanhos do X de teste {X_test.shape}')\n",
        "print(f'Tamanhos do y de teste {y_test.shape}')\n"
      ],
      "execution_count": 42,
      "outputs": [
        {
          "output_type": "stream",
          "text": [
            "Tamanhos do X de treino (120, 4)\n",
            "Tamanhos do y de treino (120,)\n",
            "Tamanhos do X de teste (30, 4)\n",
            "Tamanhos do y de teste (30,)\n"
          ],
          "name": "stdout"
        }
      ]
    },
    {
      "cell_type": "markdown",
      "metadata": {
        "id": "ksifoJSIRRZx"
      },
      "source": [
        "### Normalizando os dados"
      ]
    },
    {
      "cell_type": "markdown",
      "metadata": {
        "id": "4Kx_TVXtRmOx"
      },
      "source": [
        "Note que o fit da normalização será no X_train, isso pq o X_test na prática não sabemos a priore, ou seja, o conjunto de dados que temos a mão para saber fazer a normalização é o X_train, e o X_test são os dados que viram futuramente para aplicarmos o modelo."
      ]
    },
    {
      "cell_type": "code",
      "metadata": {
        "id": "fC3vHaP5RUWB"
      },
      "source": [
        "scaler = StandardScaler()\n",
        "scaler.fit(X_train)\n",
        "\n",
        "X_train = scaler.transform(X_train)\n",
        "X_test = scaler.transform(X_test)"
      ],
      "execution_count": 43,
      "outputs": []
    },
    {
      "cell_type": "markdown",
      "metadata": {
        "id": "GsVg3ItzSInz"
      },
      "source": [
        "### O modelo KNN"
      ]
    },
    {
      "cell_type": "code",
      "metadata": {
        "id": "hAldLTrLR_D_"
      },
      "source": [
        "knn = KNeighborsClassifier(n_neighbors=5)\n",
        "knn.fit(X_train, y_train)\n",
        "\n",
        "# predizendo\n",
        "y_predito = knn.predict(X_test)"
      ],
      "execution_count": 44,
      "outputs": []
    },
    {
      "cell_type": "markdown",
      "metadata": {
        "id": "h027VmKnSpXD"
      },
      "source": [
        "### Métricas"
      ]
    },
    {
      "cell_type": "code",
      "metadata": {
        "colab": {
          "base_uri": "https://localhost:8080/"
        },
        "id": "RG8KcizcSqcg",
        "outputId": "49775102-1d7f-44a6-db40-b026a2fbd560"
      },
      "source": [
        "# Matriz de confusao\n",
        "matriz_confusao = confusion_matrix(y_true=y_test, y_pred=y_predito)\n",
        "print(matriz_confusao)\n",
        "\n",
        "print('\\n---\\n')\n",
        "\n",
        "# melhorando a visualização da matriz de confusao\n",
        "print(pd.crosstab(y_test, y_predito, rownames=['Real'], colnames=['Predito'], margins=True))"
      ],
      "execution_count": 45,
      "outputs": [
        {
          "output_type": "stream",
          "text": [
            "[[11  0  0]\n",
            " [ 0  9  0]\n",
            " [ 0  1  9]]\n",
            "\n",
            "---\n",
            "\n",
            "Predito   0   1  2  All\n",
            "Real                   \n",
            "0        11   0  0   11\n",
            "1         0   9  0    9\n",
            "2         0   1  9   10\n",
            "All      11  10  9   30\n"
          ],
          "name": "stdout"
        }
      ]
    },
    {
      "cell_type": "code",
      "metadata": {
        "colab": {
          "base_uri": "https://localhost:8080/"
        },
        "id": "yJXiiUzITcCo",
        "outputId": "87a077bb-0612-4ae4-b5b8-9f9d6284c77e"
      },
      "source": [
        "print(classification_report(y_test, y_predito, target_names=iris.target_names))"
      ],
      "execution_count": 48,
      "outputs": [
        {
          "output_type": "stream",
          "text": [
            "              precision    recall  f1-score   support\n",
            "\n",
            "      setosa       1.00      1.00      1.00        11\n",
            "  versicolor       0.90      1.00      0.95         9\n",
            "   virginica       1.00      0.90      0.95        10\n",
            "\n",
            "    accuracy                           0.97        30\n",
            "   macro avg       0.97      0.97      0.96        30\n",
            "weighted avg       0.97      0.97      0.97        30\n",
            "\n"
          ],
          "name": "stdout"
        }
      ]
    },
    {
      "cell_type": "markdown",
      "metadata": {
        "id": "Gyt5J8gyU3ZO"
      },
      "source": [
        "### Grid search"
      ]
    },
    {
      "cell_type": "code",
      "metadata": {
        "colab": {
          "base_uri": "https://localhost:8080/",
          "height": 296
        },
        "id": "mANrj0YXVGZD",
        "outputId": "c06b9abc-17b9-44d3-a736-866439c77824"
      },
      "source": [
        "knn = KNeighborsClassifier(n_neighbors=2)\n",
        "\n",
        "k_list = list(range(1, 31)) # k variando de 1 a 30\n",
        "parametros = dict(n_neighbors=k_list) # converte a liste em dicionários de parâmetros\n",
        "\n",
        "grid = GridSearchCV(knn, parametros, cv=2, scoring='accuracy')\n",
        "# knn é o modelo que faremos o ajuste\n",
        "# cv quantidade de rodadas, maior que zero\n",
        "# scoring qual métrica usaremos para selecionar o melhor\n",
        "\n",
        "grid.fit(X_train, y_train)\n",
        "\n",
        "print(f\"Melhores parametros {grid.best_params_} com o valor de acurácia {grid.best_score_} \")\n",
        "plt.plot(k_list, grid.cv_results_['mean_test_score'], color='red', linestyle='dashed', marker='o')\n",
        "plt.xlabel(\"K (vizinhos)\")\n",
        "plt.ylabel(\"Accuracy\")\n",
        "plt.show()"
      ],
      "execution_count": 53,
      "outputs": [
        {
          "output_type": "stream",
          "text": [
            "Melhores parametros {'n_neighbors': 7} com o valor de acurácia 0.9666666666666667 \n"
          ],
          "name": "stdout"
        },
        {
          "output_type": "display_data",
          "data": {
            "image/png": "[encoded data removed]",
            "text/plain": [
              "<Figure size 432x288 with 1 Axes>"
            ]
          },
          "metadata": {
            "tags": [],
            "needs_background": "light"
          }
        }
      ]
    },
    {
      "cell_type": "markdown",
      "metadata": {
        "id": "RfCoz7dETFyy"
      },
      "source": [
        ""
      ]
    }
  ]
}