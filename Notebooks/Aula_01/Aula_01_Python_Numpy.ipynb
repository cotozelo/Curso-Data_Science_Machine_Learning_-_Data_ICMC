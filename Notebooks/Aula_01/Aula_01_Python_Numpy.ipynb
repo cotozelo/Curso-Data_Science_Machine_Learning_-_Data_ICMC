{
  "nbformat": 4,
  "nbformat_minor": 0,
  "metadata": {
    "kernelspec": {
      "display_name": "Python 3",
      "language": "python",
      "name": "python3"
    },
    "language_info": {
      "codemirror_mode": {
        "name": "ipython",
        "version": 3
      },
      "file_extension": ".py",
      "mimetype": "text/x-python",
      "name": "python",
      "nbconvert_exporter": "python",
      "pygments_lexer": "ipython3",
      "version": "3.8.10"
    },
    "colab": {
      "name": "Aula_01_Python_Numpy.ipynb",
      "provenance": [],
      "include_colab_link": true
    }
  },
  "cells": [
    {
      "cell_type": "markdown",
      "metadata": {
        "id": "view-in-github",
        "colab_type": "text"
      },
      "source": [
        "<a href=\"https://colab.research.google.com/github/cotozelo/Data_Science_Machine_Learning_-_Data_ICMC/blob/main/Notebooks/Aula_01/Aula_01_Python_Numpy.ipynb\" target=\"_parent\"><img src=\"https://colab.research.google.com/assets/colab-badge.svg\" alt=\"Open In Colab\"/></a>"
      ]
    },
    {
      "cell_type": "markdown",
      "metadata": {
        "id": "8saoWtu7DMyn"
      },
      "source": [
        "# Exercícios Python e Numpy\n"
      ]
    },
    {
      "cell_type": "markdown",
      "metadata": {
        "id": "4AODFMiBDMyr"
      },
      "source": [
        "## Python\n",
        "\n",
        "Aqui na parte de Python vamos passar por algumas das principais coisas que você precisa saber, é claro que não colocamos tudo de importante da linguagem, só o mais necessário."
      ]
    },
    {
      "cell_type": "markdown",
      "metadata": {
        "id": "6DDvymVeDMyr"
      },
      "source": [
        "### Variáveis"
      ]
    },
    {
      "cell_type": "code",
      "metadata": {
        "id": "tBTi07IWDMys"
      },
      "source": [
        "# Declare uma variavel chamada a e atribua o valor 10 a ela\n",
        "a = 10"
      ],
      "execution_count": 25,
      "outputs": []
    },
    {
      "cell_type": "code",
      "metadata": {
        "colab": {
          "base_uri": "https://localhost:8080/"
        },
        "id": "0xXA1JRRDMys",
        "outputId": "da33fb95-d4a8-4e7e-e20b-26ee99fc2859"
      },
      "source": [
        "# Imprime essa variavel que você acabou de criar\n",
        "print(a)"
      ],
      "execution_count": 26,
      "outputs": [
        {
          "output_type": "stream",
          "text": [
            "10\n"
          ],
          "name": "stdout"
        }
      ]
    },
    {
      "cell_type": "code",
      "metadata": {
        "id": "Bbs7fc8lDMyt"
      },
      "source": [
        "# Crie uma outra variavel b que recebe o valor de a so que como string\n",
        "b = str(a)"
      ],
      "execution_count": 27,
      "outputs": []
    },
    {
      "cell_type": "code",
      "metadata": {
        "id": "jhH-qfBtDMyt"
      },
      "source": [
        "# Combine sua variavel b a variavel abaixo para obter a string \"Hello 10\" em uma variavel d\n",
        "c = \"Hello \"\n",
        "d = f'{c} {b}'"
      ],
      "execution_count": 28,
      "outputs": []
    },
    {
      "cell_type": "code",
      "metadata": {
        "colab": {
          "base_uri": "https://localhost:8080/"
        },
        "id": "FUilv0_yDMyu",
        "outputId": "37136267-8e2d-44ee-e3b9-768ae6c8261c"
      },
      "source": [
        "# Imprima a variável d\n",
        "print(d)"
      ],
      "execution_count": 29,
      "outputs": [
        {
          "output_type": "stream",
          "text": [
            "Hello  10\n"
          ],
          "name": "stdout"
        }
      ]
    },
    {
      "cell_type": "markdown",
      "metadata": {
        "id": "xGp0EqdrDMyu"
      },
      "source": [
        "### Strings"
      ]
    },
    {
      "cell_type": "code",
      "metadata": {
        "id": "GoJlrYI2DMyu"
      },
      "source": [
        "my_str = 'Insira uma frase aqui!'"
      ],
      "execution_count": 30,
      "outputs": []
    },
    {
      "cell_type": "code",
      "metadata": {
        "colab": {
          "base_uri": "https://localhost:8080/",
          "height": 35
        },
        "id": "Jobw-ru5DMyu",
        "outputId": "1a214738-5ec5-473f-9244-3e9fb5071f39"
      },
      "source": [
        "# Substitua a exclamação da frase por uma interrogação\n",
        "# (Dica: A funcão altera inplace ou retorna uma copia modificada?)\n",
        "my_str = my_str.replace('!', '?')\n",
        "my_str"
      ],
      "execution_count": 31,
      "outputs": [
        {
          "output_type": "execute_result",
          "data": {
            "application/vnd.google.colaboratory.intrinsic+json": {
              "type": "string"
            },
            "text/plain": [
              "'Insira uma frase aqui?'"
            ]
          },
          "metadata": {
            "tags": []
          },
          "execution_count": 31
        }
      ]
    },
    {
      "cell_type": "code",
      "metadata": {
        "colab": {
          "base_uri": "https://localhost:8080/"
        },
        "id": "GAofGWdWDMyv",
        "outputId": "e6063a7f-c792-4074-bd7e-a9e7d4b4d355"
      },
      "source": [
        "# Crie uma lista \"my_words\" com cada palavra a frase\n",
        "my_words = my_str.split()\n",
        "my_words"
      ],
      "execution_count": 32,
      "outputs": [
        {
          "output_type": "execute_result",
          "data": {
            "text/plain": [
              "['Insira', 'uma', 'frase', 'aqui?']"
            ]
          },
          "metadata": {
            "tags": []
          },
          "execution_count": 32
        }
      ]
    },
    {
      "cell_type": "markdown",
      "metadata": {
        "id": "Yyh3D2CpDMyv"
      },
      "source": [
        "### Listas"
      ]
    },
    {
      "cell_type": "code",
      "metadata": {
        "id": "thOTaFY0DMyv"
      },
      "source": [
        "lista = [1, 23, 31, 40, 56, 16]"
      ],
      "execution_count": 33,
      "outputs": []
    },
    {
      "cell_type": "code",
      "metadata": {
        "colab": {
          "base_uri": "https://localhost:8080/"
        },
        "id": "wmZTqtJeDMyv",
        "outputId": "d23630fa-7d26-4c86-f695-d115be4fee20"
      },
      "source": [
        "# Faça um for que imprima cada elemento da lista \"lista\" (Lembre-se que o for em python é um for each)\n",
        "for elemento in lista: print(elemento)"
      ],
      "execution_count": 34,
      "outputs": [
        {
          "output_type": "stream",
          "text": [
            "1\n",
            "23\n",
            "31\n",
            "40\n",
            "56\n",
            "16\n"
          ],
          "name": "stdout"
        }
      ]
    },
    {
      "cell_type": "code",
      "metadata": {
        "colab": {
          "base_uri": "https://localhost:8080/"
        },
        "id": "pwjidNMaDMyw",
        "outputId": "d47295df-5c9b-47dd-96b4-6d76ad4367e4"
      },
      "source": [
        "# Faça um for que imprima o dobro de cada elemento da lista \"lista\" \n",
        "for elemento in lista: print(elemento*2)"
      ],
      "execution_count": 35,
      "outputs": [
        {
          "output_type": "stream",
          "text": [
            "2\n",
            "46\n",
            "62\n",
            "80\n",
            "112\n",
            "32\n"
          ],
          "name": "stdout"
        }
      ]
    },
    {
      "cell_type": "code",
      "metadata": {
        "colab": {
          "base_uri": "https://localhost:8080/"
        },
        "id": "kkrWCFPfDMyw",
        "outputId": "6ca3b6d2-0130-4024-f8a0-8928c320cb60"
      },
      "source": [
        "# Gere uma lista chamada \"dobro\" com o dobro de cada elemento de \"lista\" usando list comprehension\n",
        "dobro = [elemento*2 for elemento in lista]\n",
        "dobro"
      ],
      "execution_count": 36,
      "outputs": [
        {
          "output_type": "execute_result",
          "data": {
            "text/plain": [
              "[2, 46, 62, 80, 112, 32]"
            ]
          },
          "metadata": {
            "tags": []
          },
          "execution_count": 36
        }
      ]
    },
    {
      "cell_type": "code",
      "metadata": {
        "colab": {
          "base_uri": "https://localhost:8080/"
        },
        "id": "8vdbzYW8DMyw",
        "outputId": "a8926f00-b6f8-4a74-d10e-aa9ac6b44a44"
      },
      "source": [
        "# Crie uma nova lista chamada \"pares\"\n",
        "# Faça um for que itetere sobre a lista \"lista\" e para cada elemento impar coloque ele no fim da lista \"pares\"\n",
        "# Imprima a lista \"pares\"\n",
        "pares = []\n",
        "for elemento in lista:\n",
        "    if elemento % 2 == 0:\n",
        "        pares.append(elemento)\n",
        "        \n",
        "pares    "
      ],
      "execution_count": 37,
      "outputs": [
        {
          "output_type": "execute_result",
          "data": {
            "text/plain": [
              "[40, 56, 16]"
            ]
          },
          "metadata": {
            "tags": []
          },
          "execution_count": 37
        }
      ]
    },
    {
      "cell_type": "code",
      "metadata": {
        "id": "P1wra4-ZDMyz"
      },
      "source": [
        "lista2 = ['oi', 2, 2.5, 'top', 'python', 45]"
      ],
      "execution_count": 38,
      "outputs": []
    },
    {
      "cell_type": "code",
      "metadata": {
        "colab": {
          "base_uri": "https://localhost:8080/"
        },
        "id": "sE3_Qb3tDMyz",
        "outputId": "60eba3dc-126e-4b57-98c1-55fc12bb7de2"
      },
      "source": [
        "# Faça um for pela \"lista2\" e imprima todos os elementos que são strings (Dica: pesquise pela função type())\n",
        "for elemento in lista2:\n",
        "    if isinstance(elemento, str):\n",
        "        print(elemento)"
      ],
      "execution_count": 39,
      "outputs": [
        {
          "output_type": "stream",
          "text": [
            "oi\n",
            "top\n",
            "python\n"
          ],
          "name": "stdout"
        }
      ]
    },
    {
      "cell_type": "markdown",
      "metadata": {
        "id": "2pBtuwpsDMy0"
      },
      "source": [
        "#### Indexando"
      ]
    },
    {
      "cell_type": "code",
      "metadata": {
        "id": "wtb75C59DMy0"
      },
      "source": [
        "my_list = [0, 10, 20, 30, 40, 50, 60, 70]"
      ],
      "execution_count": 40,
      "outputs": []
    },
    {
      "cell_type": "code",
      "metadata": {
        "colab": {
          "base_uri": "https://localhost:8080/"
        },
        "id": "XdUeICQTDMy0",
        "outputId": "86b0c300-35c9-416c-9f65-66a5cf5565c7"
      },
      "source": [
        "# Selecione o ultimo elemento da lista\n",
        "my_list[-1]"
      ],
      "execution_count": 41,
      "outputs": [
        {
          "output_type": "execute_result",
          "data": {
            "text/plain": [
              "70"
            ]
          },
          "metadata": {
            "tags": []
          },
          "execution_count": 41
        }
      ]
    },
    {
      "cell_type": "code",
      "metadata": {
        "colab": {
          "base_uri": "https://localhost:8080/"
        },
        "id": "YuTNOwy_DMy0",
        "outputId": "2bd62921-2685-4b31-d2e4-7703c5b4fad3"
      },
      "source": [
        "# Selecione do primeiro até o 4 elemento da lista\n",
        "my_list[:4]"
      ],
      "execution_count": 42,
      "outputs": [
        {
          "output_type": "execute_result",
          "data": {
            "text/plain": [
              "[0, 10, 20, 30]"
            ]
          },
          "metadata": {
            "tags": []
          },
          "execution_count": 42
        }
      ]
    },
    {
      "cell_type": "code",
      "metadata": {
        "colab": {
          "base_uri": "https://localhost:8080/"
        },
        "id": "wLFJnqgQDMy0",
        "outputId": "a35a9d0d-9aa6-4e11-afde-bbfad444c3b0"
      },
      "source": [
        "# Selecione do segundo elemento da lista até o quinto\n",
        "my_list[1:5]"
      ],
      "execution_count": 43,
      "outputs": [
        {
          "output_type": "execute_result",
          "data": {
            "text/plain": [
              "[10, 20, 30, 40]"
            ]
          },
          "metadata": {
            "tags": []
          },
          "execution_count": 43
        }
      ]
    },
    {
      "cell_type": "code",
      "metadata": {
        "colab": {
          "base_uri": "https://localhost:8080/"
        },
        "id": "5gNHUfk-DMy1",
        "outputId": "b084e4d0-6c2f-4a30-f2ff-41018505b752"
      },
      "source": [
        "# Selecione do primeiro elemento da lista até o penultimo\n",
        "my_list[0:-1]"
      ],
      "execution_count": 44,
      "outputs": [
        {
          "output_type": "execute_result",
          "data": {
            "text/plain": [
              "[0, 10, 20, 30, 40, 50, 60]"
            ]
          },
          "metadata": {
            "tags": []
          },
          "execution_count": 44
        }
      ]
    },
    {
      "cell_type": "markdown",
      "metadata": {
        "id": "nqNbSYfdDMy1"
      },
      "source": [
        "### Dicionários"
      ]
    },
    {
      "cell_type": "code",
      "metadata": {
        "id": "6YL3e8O-DMy1"
      },
      "source": [
        "lista = ['a', 'a', 'b', 'a', 'c', 'd', 'e', 'b', 'b', 'c']"
      ],
      "execution_count": 45,
      "outputs": []
    },
    {
      "cell_type": "code",
      "metadata": {
        "colab": {
          "base_uri": "https://localhost:8080/"
        },
        "id": "NJ8tT9_2DMy1",
        "outputId": "5796afb2-c45d-4c5d-811a-b5495ba4586e"
      },
      "source": [
        "# Crie um dicionario que contenha a contagem de cada elemento do vetor\n",
        "from collections import Counter\n",
        "my_dict = dict(Counter(lista))\n",
        "my_dict"
      ],
      "execution_count": 46,
      "outputs": [
        {
          "output_type": "execute_result",
          "data": {
            "text/plain": [
              "{'a': 3, 'b': 3, 'c': 2, 'd': 1, 'e': 1}"
            ]
          },
          "metadata": {
            "tags": []
          },
          "execution_count": 46
        }
      ]
    },
    {
      "cell_type": "code",
      "metadata": {
        "colab": {
          "base_uri": "https://localhost:8080/"
        },
        "id": "iqA6VppeDMy2",
        "outputId": "4be45eef-aed2-4af4-a042-77b1654a74f2"
      },
      "source": [
        "print(my_dict)"
      ],
      "execution_count": 47,
      "outputs": [
        {
          "output_type": "stream",
          "text": [
            "{'a': 3, 'b': 3, 'c': 2, 'd': 1, 'e': 1}\n"
          ],
          "name": "stdout"
        }
      ]
    },
    {
      "cell_type": "markdown",
      "metadata": {
        "id": "hIIhzBrcDMy2"
      },
      "source": [
        "### Funções"
      ]
    },
    {
      "cell_type": "code",
      "metadata": {
        "id": "9EJTP8HIDMy2"
      },
      "source": [
        "# Crie uma função soma_elementos() que recebe uma lista e retorna a soma de todos os seus elementos\n",
        "def soma_elementos(lista):\n",
        "    return sum(lista)"
      ],
      "execution_count": 48,
      "outputs": []
    },
    {
      "cell_type": "code",
      "metadata": {
        "colab": {
          "base_uri": "https://localhost:8080/"
        },
        "id": "Z6ULa6FJDMy2",
        "outputId": "aff10d7f-b92c-4f22-88f9-ebdba5e4c71c"
      },
      "source": [
        "soma_elementos([1, 2, 3, 4, 5])"
      ],
      "execution_count": 49,
      "outputs": [
        {
          "output_type": "execute_result",
          "data": {
            "text/plain": [
              "15"
            ]
          },
          "metadata": {
            "tags": []
          },
          "execution_count": 49
        }
      ]
    },
    {
      "cell_type": "code",
      "metadata": {
        "colab": {
          "base_uri": "https://localhost:8080/"
        },
        "id": "n5LvVwAPDMy2",
        "outputId": "624ad7bd-0603-4692-ab84-bafde8e184e9"
      },
      "source": [
        "soma_elementos([-1, 5, 7, -2])"
      ],
      "execution_count": 50,
      "outputs": [
        {
          "output_type": "execute_result",
          "data": {
            "text/plain": [
              "9"
            ]
          },
          "metadata": {
            "tags": []
          },
          "execution_count": 50
        }
      ]
    },
    {
      "cell_type": "code",
      "metadata": {
        "id": "1NenmfKaDMy3"
      },
      "source": [
        "# Crie uma função produto_escalar() que recebe duas listas de tamanho igual e calcula o produto escalar entre elas\n",
        "# Dica: Utilize a função zip\n",
        "def produto_escalar(lista1, lista2):\n",
        "    produto = []\n",
        "    for ele1, ele2 in zip(lista1, lista2):\n",
        "        produto.append(ele1 * ele2)\n",
        "    return produto"
      ],
      "execution_count": 51,
      "outputs": []
    },
    {
      "cell_type": "code",
      "metadata": {
        "colab": {
          "base_uri": "https://localhost:8080/"
        },
        "id": "yYVP7V8JDMy3",
        "outputId": "2faa9812-90c3-464a-dc7a-3567049628ae"
      },
      "source": [
        "produto_escalar([1, 2, 3], [0, 4, 7])"
      ],
      "execution_count": 52,
      "outputs": [
        {
          "output_type": "execute_result",
          "data": {
            "text/plain": [
              "[0, 8, 21]"
            ]
          },
          "metadata": {
            "tags": []
          },
          "execution_count": 52
        }
      ]
    },
    {
      "cell_type": "code",
      "metadata": {
        "colab": {
          "base_uri": "https://localhost:8080/"
        },
        "id": "WeYemZZuDMy3",
        "outputId": "73343398-60b4-488b-f9cd-ab5bfb1b3531"
      },
      "source": [
        "produto_escalar([10, 20, 40, 1], [23, 4, 2, 1])"
      ],
      "execution_count": 53,
      "outputs": [
        {
          "output_type": "execute_result",
          "data": {
            "text/plain": [
              "[230, 80, 80, 1]"
            ]
          },
          "metadata": {
            "tags": []
          },
          "execution_count": 53
        }
      ]
    },
    {
      "cell_type": "code",
      "metadata": {
        "id": "X--OxNvRDMy4"
      },
      "source": [
        "# Crie uma função par_ou_impar() que recebe um numero n é para cada numero de 1 a n imprime o numero\n",
        "# seguido de par ou impar, dependendo do que ele seja. Caso o usuário não coloque nada n deve valer 20\n",
        "# Exemplo: par_ou_impar(4)\n",
        "#   1 Impar\n",
        "#   2 Par\n",
        "#   3 Impar\n",
        "#   4 Par\n",
        "def par_ou_impar(n=20):\n",
        "    if n % 2 == 0:\n",
        "        print(f'{n} Par')\n",
        "    else:\n",
        "        print(f'{n} Impar')"
      ],
      "execution_count": 54,
      "outputs": []
    },
    {
      "cell_type": "code",
      "metadata": {
        "colab": {
          "base_uri": "https://localhost:8080/"
        },
        "id": "wx7-87y7DMy4",
        "outputId": "98f4f8f9-d29f-4acd-bbc7-0a5401edbe54"
      },
      "source": [
        "par_ou_impar(15)"
      ],
      "execution_count": 55,
      "outputs": [
        {
          "output_type": "stream",
          "text": [
            "15 Impar\n"
          ],
          "name": "stdout"
        }
      ]
    },
    {
      "cell_type": "code",
      "metadata": {
        "colab": {
          "base_uri": "https://localhost:8080/"
        },
        "id": "Prjg7AuODMy4",
        "outputId": "6fb74b81-a3ae-4753-d082-198e0294d29c"
      },
      "source": [
        "par_ou_impar(15)"
      ],
      "execution_count": 56,
      "outputs": [
        {
          "output_type": "stream",
          "text": [
            "15 Impar\n"
          ],
          "name": "stdout"
        }
      ]
    },
    {
      "cell_type": "code",
      "metadata": {
        "id": "z7TVOV0_DMy5"
      },
      "source": [
        "# Crie uma função diga_indice() que recebe uma lista e imprime o indice de cada elemento e em seguida \n",
        "# o proprio elemento\n",
        "# Exemplo: diga_indice(['oi', 'tudo', 'bem'])\n",
        "#    0 oi\n",
        "#    1 tudo\n",
        "#    2 bem\n",
        "# (DICA: Pesquise pela função enumerate)\n",
        "def diga_indice(lista):\n",
        "    for k, v in enumerate(lista):\n",
        "        print(f'{k} {v}')"
      ],
      "execution_count": 57,
      "outputs": []
    },
    {
      "cell_type": "code",
      "metadata": {
        "colab": {
          "base_uri": "https://localhost:8080/"
        },
        "id": "TVCQYeXMDMy5",
        "outputId": "f1b5a52d-96be-47fd-9e10-2271a2e4f40b"
      },
      "source": [
        "diga_indice(['1', '2', '3'])"
      ],
      "execution_count": 58,
      "outputs": [
        {
          "output_type": "stream",
          "text": [
            "0 1\n",
            "1 2\n",
            "2 3\n"
          ],
          "name": "stdout"
        }
      ]
    },
    {
      "cell_type": "code",
      "metadata": {
        "colab": {
          "base_uri": "https://localhost:8080/"
        },
        "id": "-krVfvVBDMy5",
        "outputId": "21f6f106-d49a-4dae-e926-93c70ce02b01"
      },
      "source": [
        "diga_indice(['a', 'b', 'c', 'd', 'e'])"
      ],
      "execution_count": 59,
      "outputs": [
        {
          "output_type": "stream",
          "text": [
            "0 a\n",
            "1 b\n",
            "2 c\n",
            "3 d\n",
            "4 e\n"
          ],
          "name": "stdout"
        }
      ]
    },
    {
      "cell_type": "markdown",
      "metadata": {
        "id": "KA61JqEGDMy5"
      },
      "source": [
        "## Numpy\n",
        "\n",
        "O elemento central do numpy são os arrays, então aqui vamos treinar muitas coisas sobre eles"
      ]
    },
    {
      "cell_type": "code",
      "metadata": {
        "id": "DabYTOGUDMy6"
      },
      "source": [
        "# Importando a biblioteca\n",
        "import numpy as np"
      ],
      "execution_count": 60,
      "outputs": []
    },
    {
      "cell_type": "markdown",
      "metadata": {
        "id": "VFap1aAYDMy6"
      },
      "source": [
        "### Arrays"
      ]
    },
    {
      "cell_type": "code",
      "metadata": {
        "id": "COfDqBr0DMy6"
      },
      "source": [
        "a = np.array([1, 2, 3, 4, 5, 6, 7])\n",
        "\n",
        "b = np.array([[1, 2, 3, 4],\n",
        "              [5, 6, 7, 8]])\n",
        "\n",
        "c = np.zeros((3,4))"
      ],
      "execution_count": 61,
      "outputs": []
    },
    {
      "cell_type": "code",
      "metadata": {
        "colab": {
          "base_uri": "https://localhost:8080/"
        },
        "id": "9RAVBKKPDMy6",
        "outputId": "66e3ad75-2ecb-40c8-c6ac-a9988ce73ae6"
      },
      "source": [
        "# Pense em qual é a shape de cada um dos arrays acima\n",
        "# Depois de pensar imprima cada um deles para conferir sua resposta\n",
        "print(a.shape)\n",
        "print(b.shape)\n",
        "print(c.shape)"
      ],
      "execution_count": 62,
      "outputs": [
        {
          "output_type": "stream",
          "text": [
            "(7,)\n",
            "(2, 4)\n",
            "(3, 4)\n"
          ],
          "name": "stdout"
        }
      ]
    },
    {
      "cell_type": "code",
      "metadata": {
        "colab": {
          "base_uri": "https://localhost:8080/"
        },
        "id": "XiFl-kMkDMy6",
        "outputId": "68fe8119-df80-4fbf-9aea-8fdd2898573c"
      },
      "source": [
        "# Crie um array de uma dimenção com 20 elementos inteiros aletórios entre 0 e 23bb\n",
        "d = np.random.randint(24, size=(20))\n",
        "d"
      ],
      "execution_count": 63,
      "outputs": [
        {
          "output_type": "execute_result",
          "data": {
            "text/plain": [
              "array([13,  7,  3,  1, 11,  3, 19,  6, 19,  4,  5, 12, 17,  4, 20,  5, 15,\n",
              "       21,  8,  9])"
            ]
          },
          "metadata": {
            "tags": []
          },
          "execution_count": 63
        }
      ]
    },
    {
      "cell_type": "code",
      "metadata": {
        "colab": {
          "base_uri": "https://localhost:8080/"
        },
        "id": "GSrvgyVgDMy7",
        "outputId": "4cd1bef5-1bc6-4efa-e583-19050f3d7304"
      },
      "source": [
        "# Crie um array de uns com shape (4, 5)\n",
        "e = np.ones([4, 5])\n",
        "e"
      ],
      "execution_count": 64,
      "outputs": [
        {
          "output_type": "execute_result",
          "data": {
            "text/plain": [
              "array([[1., 1., 1., 1., 1.],\n",
              "       [1., 1., 1., 1., 1.],\n",
              "       [1., 1., 1., 1., 1.],\n",
              "       [1., 1., 1., 1., 1.]])"
            ]
          },
          "metadata": {
            "tags": []
          },
          "execution_count": 64
        }
      ]
    },
    {
      "cell_type": "code",
      "metadata": {
        "colab": {
          "base_uri": "https://localhost:8080/"
        },
        "id": "L5JavoizDMy8",
        "outputId": "f22c6398-e612-4702-d3a3-252bc7ad46ea"
      },
      "source": [
        "# Crie um array shape (4, 2) onde cada entrada vale 77\n",
        "# (Dica: Talvez vc tenha que usar uma multiplicação)\n",
        "f = np.ones([4, 2]) * 77\n",
        "f"
      ],
      "execution_count": 65,
      "outputs": [
        {
          "output_type": "execute_result",
          "data": {
            "text/plain": [
              "array([[77., 77.],\n",
              "       [77., 77.],\n",
              "       [77., 77.],\n",
              "       [77., 77.]])"
            ]
          },
          "metadata": {
            "tags": []
          },
          "execution_count": 65
        }
      ]
    },
    {
      "cell_type": "code",
      "metadata": {
        "colab": {
          "base_uri": "https://localhost:8080/"
        },
        "id": "N4LPoP43DMy8",
        "outputId": "6ed191ca-47ee-4b65-c140-537eff807093"
      },
      "source": [
        "# Gere um array chamado my_sequence com os numeros 0, 10, 20, 30, ..., 90, 100]\n",
        "g = np.arange(101)\n",
        "g"
      ],
      "execution_count": 66,
      "outputs": [
        {
          "output_type": "execute_result",
          "data": {
            "text/plain": [
              "array([  0,   1,   2,   3,   4,   5,   6,   7,   8,   9,  10,  11,  12,\n",
              "        13,  14,  15,  16,  17,  18,  19,  20,  21,  22,  23,  24,  25,\n",
              "        26,  27,  28,  29,  30,  31,  32,  33,  34,  35,  36,  37,  38,\n",
              "        39,  40,  41,  42,  43,  44,  45,  46,  47,  48,  49,  50,  51,\n",
              "        52,  53,  54,  55,  56,  57,  58,  59,  60,  61,  62,  63,  64,\n",
              "        65,  66,  67,  68,  69,  70,  71,  72,  73,  74,  75,  76,  77,\n",
              "        78,  79,  80,  81,  82,  83,  84,  85,  86,  87,  88,  89,  90,\n",
              "        91,  92,  93,  94,  95,  96,  97,  98,  99, 100])"
            ]
          },
          "metadata": {
            "tags": []
          },
          "execution_count": 66
        }
      ]
    },
    {
      "cell_type": "markdown",
      "metadata": {
        "id": "yeDGb5YrDMy8"
      },
      "source": [
        "### Indexando"
      ]
    },
    {
      "cell_type": "code",
      "metadata": {
        "colab": {
          "base_uri": "https://localhost:8080/"
        },
        "id": "jFEIl61jDMy8",
        "outputId": "efc73a65-1979-4cec-fa53-75c71fe78675"
      },
      "source": [
        "my_array = np.random.randint(50, size=(15,))\n",
        "print(my_array)"
      ],
      "execution_count": 67,
      "outputs": [
        {
          "output_type": "stream",
          "text": [
            "[32 12 41 27  5 42  8  9 41  6 36  0 23 16 31]\n"
          ],
          "name": "stdout"
        }
      ]
    },
    {
      "cell_type": "code",
      "metadata": {
        "colab": {
          "base_uri": "https://localhost:8080/"
        },
        "id": "-g285hEHDMy9",
        "outputId": "28c67440-1ed5-4ece-cba9-f0d876218967"
      },
      "source": [
        "# Selecione todos os elementos entre o quinto e o decimo primeiro (intervalo fechado)\n",
        "my_array[4:11]"
      ],
      "execution_count": 68,
      "outputs": [
        {
          "output_type": "execute_result",
          "data": {
            "text/plain": [
              "array([ 5, 42,  8,  9, 41,  6, 36])"
            ]
          },
          "metadata": {
            "tags": []
          },
          "execution_count": 68
        }
      ]
    },
    {
      "cell_type": "code",
      "metadata": {
        "colab": {
          "base_uri": "https://localhost:8080/"
        },
        "id": "FCaKeW9fDMy9",
        "outputId": "20827525-bddd-499e-dcfa-c6ad684f219e"
      },
      "source": [
        "# Selecione todos os elementos maiores que 20\n",
        "my_array[my_array > 20]"
      ],
      "execution_count": 69,
      "outputs": [
        {
          "output_type": "execute_result",
          "data": {
            "text/plain": [
              "array([32, 41, 27, 42, 41, 36, 23, 31])"
            ]
          },
          "metadata": {
            "tags": []
          },
          "execution_count": 69
        }
      ]
    },
    {
      "cell_type": "code",
      "metadata": {
        "id": "_4IFM8UrDMy9"
      },
      "source": [
        "my_matrix = np.array([[1, 2, 3, 4],\n",
        "                      [5, 6, 7, 8],\n",
        "                      [9, 10, 11, 12],\n",
        "                      [13, 14, 15, 16]])"
      ],
      "execution_count": 70,
      "outputs": []
    },
    {
      "cell_type": "code",
      "metadata": {
        "colab": {
          "base_uri": "https://localhost:8080/"
        },
        "id": "a5-EIXykDMy-",
        "outputId": "3a537f64-7fe6-4584-ac4f-f73da75101d4"
      },
      "source": [
        "# Selecione o elemento na primeira linha da terceira coluna\n",
        "my_matrix[0, 2]"
      ],
      "execution_count": 71,
      "outputs": [
        {
          "output_type": "execute_result",
          "data": {
            "text/plain": [
              "3"
            ]
          },
          "metadata": {
            "tags": []
          },
          "execution_count": 71
        }
      ]
    },
    {
      "cell_type": "code",
      "metadata": {
        "colab": {
          "base_uri": "https://localhost:8080/"
        },
        "id": "NpvdWJ_mDMy-",
        "outputId": "657c1ab7-b921-4d33-db65-2f7d5b2ea167"
      },
      "source": [
        "# Selecione o elemento na primeira linha da ultima coluna\n",
        "my_matrix[0, -1]"
      ],
      "execution_count": 72,
      "outputs": [
        {
          "output_type": "execute_result",
          "data": {
            "text/plain": [
              "4"
            ]
          },
          "metadata": {
            "tags": []
          },
          "execution_count": 72
        }
      ]
    },
    {
      "cell_type": "code",
      "metadata": {
        "colab": {
          "base_uri": "https://localhost:8080/"
        },
        "id": "hFCUf5o7DMy-",
        "outputId": "4a85da22-86b9-4e07-c177-b6fb4f1b3667"
      },
      "source": [
        "# Selecione os elementos da matriz para obter o seguinte\n",
        "# [[6, 7],\n",
        "#  [10, 11]]\n",
        "my_matrix[1:3, 1:3]"
      ],
      "execution_count": 73,
      "outputs": [
        {
          "output_type": "execute_result",
          "data": {
            "text/plain": [
              "array([[ 6,  7],\n",
              "       [10, 11]])"
            ]
          },
          "metadata": {
            "tags": []
          },
          "execution_count": 73
        }
      ]
    },
    {
      "cell_type": "code",
      "metadata": {
        "colab": {
          "base_uri": "https://localhost:8080/"
        },
        "id": "ZevcINPTDMy-",
        "outputId": "8dce7870-6b8c-4655-97c1-d01abf9f73e4"
      },
      "source": [
        "# Selecione os elementos da matriz para obter o seguinte\n",
        "# [[2, 3, 4],\n",
        "#  [6, 7, 8]]\n",
        "my_matrix[0:2, 1:4]"
      ],
      "execution_count": 74,
      "outputs": [
        {
          "output_type": "execute_result",
          "data": {
            "text/plain": [
              "array([[2, 3, 4],\n",
              "       [6, 7, 8]])"
            ]
          },
          "metadata": {
            "tags": []
          },
          "execution_count": 74
        }
      ]
    },
    {
      "cell_type": "code",
      "metadata": {
        "colab": {
          "base_uri": "https://localhost:8080/"
        },
        "id": "MnA8c4wIDMy_",
        "outputId": "582223fc-b8fa-431a-c53c-0300ebd2929b"
      },
      "source": [
        "# Selecione os elementos da ultima coluna inteira\n",
        "my_matrix[:, -1]"
      ],
      "execution_count": 75,
      "outputs": [
        {
          "output_type": "execute_result",
          "data": {
            "text/plain": [
              "array([ 4,  8, 12, 16])"
            ]
          },
          "metadata": {
            "tags": []
          },
          "execution_count": 75
        }
      ]
    },
    {
      "cell_type": "code",
      "metadata": {
        "colab": {
          "base_uri": "https://localhost:8080/"
        },
        "id": "ySqdrv9KDMy_",
        "outputId": "e74d61da-d518-46cd-b51c-e8c47eab51d3"
      },
      "source": [
        "# Selecione os elementos da 2a linha inteira\n",
        "my_matrix[1,:]"
      ],
      "execution_count": 76,
      "outputs": [
        {
          "output_type": "execute_result",
          "data": {
            "text/plain": [
              "array([5, 6, 7, 8])"
            ]
          },
          "metadata": {
            "tags": []
          },
          "execution_count": 76
        }
      ]
    },
    {
      "cell_type": "markdown",
      "metadata": {
        "id": "EKAJT9I5DMy_"
      },
      "source": [
        "### Operações"
      ]
    },
    {
      "cell_type": "code",
      "metadata": {
        "colab": {
          "base_uri": "https://localhost:8080/"
        },
        "id": "MrDgk7KkDMy_",
        "outputId": "400bded1-1c61-468d-b51c-5473dc49b5cc"
      },
      "source": [
        "my_array = np.random.randint(10, size=(5,))\n",
        "print(my_array)"
      ],
      "execution_count": 77,
      "outputs": [
        {
          "output_type": "stream",
          "text": [
            "[8 3 1 7 4]\n"
          ],
          "name": "stdout"
        }
      ]
    },
    {
      "cell_type": "code",
      "metadata": {
        "colab": {
          "base_uri": "https://localhost:8080/"
        },
        "id": "X486WlEXDMzA",
        "outputId": "42d372e9-c3e0-4729-e890-3d1055966c73"
      },
      "source": [
        "# Some 10 a todos os elementos de my_array\n",
        "my_array = my_array + 10\n",
        "my_array"
      ],
      "execution_count": 78,
      "outputs": [
        {
          "output_type": "execute_result",
          "data": {
            "text/plain": [
              "array([18, 13, 11, 17, 14])"
            ]
          },
          "metadata": {
            "tags": []
          },
          "execution_count": 78
        }
      ]
    },
    {
      "cell_type": "code",
      "metadata": {
        "colab": {
          "base_uri": "https://localhost:8080/"
        },
        "id": "vZekbckPDMzA",
        "outputId": "8ae714b5-5254-4d02-8ac7-20a80406db23"
      },
      "source": [
        "# Multiplique todos os elementos de my_array por 4\n",
        "my_array = my_array * 4\n",
        "my_array"
      ],
      "execution_count": 79,
      "outputs": [
        {
          "output_type": "execute_result",
          "data": {
            "text/plain": [
              "array([72, 52, 44, 68, 56])"
            ]
          },
          "metadata": {
            "tags": []
          },
          "execution_count": 79
        }
      ]
    },
    {
      "cell_type": "code",
      "metadata": {
        "colab": {
          "base_uri": "https://localhost:8080/"
        },
        "id": "ujhlql3UDMzA",
        "outputId": "2398a63c-1a28-4514-e2f2-846353bb8e8a"
      },
      "source": [
        "# Obtenha a soma de todos os elementos de my_array\n",
        "my_array.sum()"
      ],
      "execution_count": 80,
      "outputs": [
        {
          "output_type": "execute_result",
          "data": {
            "text/plain": [
              "292"
            ]
          },
          "metadata": {
            "tags": []
          },
          "execution_count": 80
        }
      ]
    },
    {
      "cell_type": "code",
      "metadata": {
        "colab": {
          "base_uri": "https://localhost:8080/"
        },
        "id": "4bM2JCG0DMzB",
        "outputId": "fcf21147-a78b-4d7f-dcef-6c9e8ef82959"
      },
      "source": [
        "# Obtenha a média de todos os elementos de my_array\n",
        "my_array.mean()"
      ],
      "execution_count": 81,
      "outputs": [
        {
          "output_type": "execute_result",
          "data": {
            "text/plain": [
              "58.4"
            ]
          },
          "metadata": {
            "tags": []
          },
          "execution_count": 81
        }
      ]
    },
    {
      "cell_type": "code",
      "metadata": {
        "colab": {
          "base_uri": "https://localhost:8080/"
        },
        "id": "itGZ-qQaDMzB",
        "outputId": "07b2eeaf-5312-47fe-ec68-6ce7078b7698"
      },
      "source": [
        "# Obtenha o indice do maior elemento de my_array\n",
        "np.argmax(my_array)"
      ],
      "execution_count": 82,
      "outputs": [
        {
          "output_type": "execute_result",
          "data": {
            "text/plain": [
              "0"
            ]
          },
          "metadata": {
            "tags": []
          },
          "execution_count": 82
        }
      ]
    },
    {
      "cell_type": "code",
      "metadata": {
        "colab": {
          "base_uri": "https://localhost:8080/"
        },
        "id": "_OhecVj6DMzB",
        "outputId": "04197d04-45df-484e-9e74-bbfaf76be5b2"
      },
      "source": [
        "my_array = np.random.randint(10, size=(5,))\n",
        "my_other_array = np.random.randint(10, size=(5,))\n",
        "print(my_array, '\\n')\n",
        "print(my_other_array)"
      ],
      "execution_count": 83,
      "outputs": [
        {
          "output_type": "stream",
          "text": [
            "[8 2 2 2 4] \n",
            "\n",
            "[1 2 2 6 4]\n"
          ],
          "name": "stdout"
        }
      ]
    },
    {
      "cell_type": "code",
      "metadata": {
        "colab": {
          "base_uri": "https://localhost:8080/"
        },
        "id": "UuOYSE9EDMzB",
        "outputId": "ce7fc4a6-e7c4-4f8f-f08d-f6295db01f82"
      },
      "source": [
        "my_array = np.random.randint(10, size=(5,))\n",
        "my_other_array = np.random.randint(10, size=(10,5))\n",
        "print(my_array, '\\n')\n",
        "print(my_other_array)"
      ],
      "execution_count": 84,
      "outputs": [
        {
          "output_type": "stream",
          "text": [
            "[3 8 3 5 3] \n",
            "\n",
            "[[8 0 4 4 9]\n",
            " [2 9 0 8 4]\n",
            " [9 5 0 7 6]\n",
            " [2 9 3 0 5]\n",
            " [7 4 4 5 7]\n",
            " [8 9 3 6 0]\n",
            " [7 9 6 9 9]\n",
            " [3 1 5 3 1]\n",
            " [4 1 7 4 2]\n",
            " [1 5 4 3 0]]\n"
          ],
          "name": "stdout"
        }
      ]
    },
    {
      "cell_type": "code",
      "metadata": {
        "colab": {
          "base_uri": "https://localhost:8080/"
        },
        "id": "_20DUIckDMzB",
        "outputId": "f23bc035-9f0e-4d4d-ac54-3e6bab5c4ba6"
      },
      "source": [
        "# Some my_array elemento por elemento em cada linha de my_other_array\n",
        "my_other_array + my_array"
      ],
      "execution_count": 85,
      "outputs": [
        {
          "output_type": "execute_result",
          "data": {
            "text/plain": [
              "array([[11,  8,  7,  9, 12],\n",
              "       [ 5, 17,  3, 13,  7],\n",
              "       [12, 13,  3, 12,  9],\n",
              "       [ 5, 17,  6,  5,  8],\n",
              "       [10, 12,  7, 10, 10],\n",
              "       [11, 17,  6, 11,  3],\n",
              "       [10, 17,  9, 14, 12],\n",
              "       [ 6,  9,  8,  8,  4],\n",
              "       [ 7,  9, 10,  9,  5],\n",
              "       [ 4, 13,  7,  8,  3]])"
            ]
          },
          "metadata": {
            "tags": []
          },
          "execution_count": 85
        }
      ]
    },
    {
      "cell_type": "code",
      "metadata": {
        "colab": {
          "base_uri": "https://localhost:8080/"
        },
        "id": "ylDJYqUbDMzC",
        "outputId": "4fb27be9-c67c-45db-ae8b-af5fcf5d28d0"
      },
      "source": [
        "my_array = np.random.randint(10, size=(5,4))\n",
        "my_other_array = np.random.randint(10, size=(10,5))\n",
        "print(my_array, '\\n')\n",
        "print(my_other_array)"
      ],
      "execution_count": 86,
      "outputs": [
        {
          "output_type": "stream",
          "text": [
            "[[1 6 4 6]\n",
            " [8 1 5 8]\n",
            " [1 9 5 6]\n",
            " [0 8 4 8]\n",
            " [2 9 3 8]] \n",
            "\n",
            "[[1 7 9 3 2]\n",
            " [8 6 6 6 4]\n",
            " [8 8 5 2 8]\n",
            " [7 6 1 2 2]\n",
            " [8 9 9 6 5]\n",
            " [7 1 5 0 8]\n",
            " [9 9 6 9 0]\n",
            " [6 8 6 8 0]\n",
            " [0 7 4 1 4]\n",
            " [7 9 0 8 4]]\n"
          ],
          "name": "stdout"
        }
      ]
    },
    {
      "cell_type": "code",
      "metadata": {
        "colab": {
          "base_uri": "https://localhost:8080/"
        },
        "id": "BLDdnkMiDMzC",
        "outputId": "6e861c95-dc73-4b00-b025-658910dc3970"
      },
      "source": [
        "# Faça a multiplicação entre my_other_array e my_array\n",
        "np.dot(my_other_array, my_array)"
      ],
      "execution_count": 87,
      "outputs": [
        {
          "output_type": "execute_result",
          "data": {
            "text/plain": [
              "array([[ 70, 136, 102, 156],\n",
              "       [ 70, 192, 128, 212],\n",
              "       [ 93, 189, 129, 222],\n",
              "       [ 60,  91,  77, 128],\n",
              "       [ 99, 231, 161, 262],\n",
              "       [ 36, 160,  82, 144],\n",
              "       [ 87, 189, 147, 234],\n",
              "       [ 76, 162, 126, 200],\n",
              "       [ 68,  87,  71, 120],\n",
              "       [ 87, 151, 117, 210]])"
            ]
          },
          "metadata": {
            "tags": []
          },
          "execution_count": 87
        }
      ]
    },
    {
      "cell_type": "code",
      "metadata": {
        "colab": {
          "base_uri": "https://localhost:8080/"
        },
        "id": "xn8NBqn9DMzC",
        "outputId": "ca413710-4058-4f0f-8104-820c69a53333"
      },
      "source": [
        "# Descubra a soma dos valores de cada linha de my_other_array\n",
        "# (Dica: Pesquise sobre o atributo axis da função de soma)\n",
        "my_other_array.sum(axis=1)"
      ],
      "execution_count": 88,
      "outputs": [
        {
          "output_type": "execute_result",
          "data": {
            "text/plain": [
              "array([22, 30, 31, 18, 37, 21, 33, 28, 16, 28])"
            ]
          },
          "metadata": {
            "tags": []
          },
          "execution_count": 88
        }
      ]
    },
    {
      "cell_type": "code",
      "metadata": {
        "colab": {
          "base_uri": "https://localhost:8080/"
        },
        "id": "z8FYEZV1DMzC",
        "outputId": "eba9bde2-41ec-46fc-9464-f05fc555f203"
      },
      "source": [
        "my_array = np.random.randint(10, size=(5,4))\n",
        "print(my_array)"
      ],
      "execution_count": 89,
      "outputs": [
        {
          "output_type": "stream",
          "text": [
            "[[8 7 8 7]\n",
            " [8 5 8 8]\n",
            " [8 9 1 8]\n",
            " [5 5 5 0]\n",
            " [0 9 3 6]]\n"
          ],
          "name": "stdout"
        }
      ]
    },
    {
      "cell_type": "code",
      "metadata": {
        "colab": {
          "base_uri": "https://localhost:8080/"
        },
        "id": "nhXNfPs7DMzD",
        "outputId": "d67da8a9-94ae-44e3-aea2-e5000e63faf2"
      },
      "source": [
        "# Usando reshape transforme a matriz acima em um vetor (Concatendo a linha de baixo na de cima)\n",
        "my_array.reshape(-1)"
      ],
      "execution_count": 90,
      "outputs": [
        {
          "output_type": "execute_result",
          "data": {
            "text/plain": [
              "array([8, 7, 8, 7, 8, 5, 8, 8, 8, 9, 1, 8, 5, 5, 5, 0, 0, 9, 3, 6])"
            ]
          },
          "metadata": {
            "tags": []
          },
          "execution_count": 90
        }
      ]
    },
    {
      "cell_type": "code",
      "metadata": {
        "colab": {
          "base_uri": "https://localhost:8080/"
        },
        "id": "dMsukHmGDMzD",
        "outputId": "04f076fe-6d5d-4ab8-dce8-74249b359715"
      },
      "source": [
        "np.array([[ 0,  1,  2,  3,  4,  5,  6,  7],\n",
        "          [ 8,  9, 10, 11, 12, 13, 14, 15]])"
      ],
      "execution_count": 91,
      "outputs": [
        {
          "output_type": "execute_result",
          "data": {
            "text/plain": [
              "array([[ 0,  1,  2,  3,  4,  5,  6,  7],\n",
              "       [ 8,  9, 10, 11, 12, 13, 14, 15]])"
            ]
          },
          "metadata": {
            "tags": []
          },
          "execution_count": 91
        }
      ]
    },
    {
      "cell_type": "code",
      "metadata": {
        "collapsed": true,
        "id": "VyaSAqbADMzD"
      },
      "source": [
        "# Gere a array anterior usando np.arange e a função reshape\n"
      ],
      "execution_count": 92,
      "outputs": []
    }
  ]
}